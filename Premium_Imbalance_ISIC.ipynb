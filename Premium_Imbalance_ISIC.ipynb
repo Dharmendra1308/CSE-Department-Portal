{
  "nbformat": 4,
  "nbformat_minor": 0,
  "metadata": {
    "colab": {
      "provenance": [],
      "machine_shape": "hm",
      "gpuType": "A100",
      "authorship_tag": "ABX9TyM/9YwJJDidyHKhW4g5tCrl",
      "include_colab_link": true
    },
    "kernelspec": {
      "name": "python3",
      "display_name": "Python 3"
    },
    "language_info": {
      "name": "python"
    },
    "accelerator": "GPU"
  },
  "cells": [
    {
      "cell_type": "markdown",
      "metadata": {
        "id": "view-in-github",
        "colab_type": "text"
      },
      "source": [
        "<a href=\"https://colab.research.google.com/github/Dharmendra1308/CSE-Department-Portal/blob/main/Premium_Imbalance_ISIC.ipynb\" target=\"_parent\"><img src=\"https://colab.research.google.com/assets/colab-badge.svg\" alt=\"Open In Colab\"/></a>"
      ]
    },
    {
      "cell_type": "code",
      "execution_count": null,
      "metadata": {
        "id": "M0fctgfAHBYI"
      },
      "outputs": [],
      "source": [
        "import os\n",
        "import cv2\n",
        "import numpy as np\n",
        "import pandas as pd\n",
        "import matplotlib.pyplot as plt\n",
        "import tensorflow as tf\n",
        "from tensorflow.keras.models import Sequential\n",
        "from tensorflow.keras.layers import (Conv2D, MaxPooling2D, Flatten, Dense, Dropout, BatchNormalization, Activation)\n",
        "from tensorflow.keras.preprocessing.image import ImageDataGenerator, load_img, img_to_array\n",
        "from tensorflow.keras.callbacks import EarlyStopping, ReduceLROnPlateau\n",
        "from tensorflow.keras.optimizers import Adamax\n",
        "from sklearn.model_selection import train_test_split\n",
        "from sklearn.utils import resample\n",
        "from sklearn.preprocessing import LabelBinarizer\n",
        "from sklearn.metrics import accuracy_score, confusion_matrix, classification_report\n",
        "from glob import glob\n",
        "from google.colab import drive"
      ]
    },
    {
      "cell_type": "code",
      "source": [
        "drive.mount('/content/drive')"
      ],
      "metadata": {
        "colab": {
          "base_uri": "https://localhost:8080/"
        },
        "id": "ZY7M58XrHodm",
        "outputId": "47565c89-a856-4b9b-c46d-aa8f75b5ba20"
      },
      "execution_count": null,
      "outputs": [
        {
          "output_type": "stream",
          "name": "stdout",
          "text": [
            "Mounted at /content/drive\n"
          ]
        }
      ]
    },
    {
      "cell_type": "code",
      "source": [
        "# set path\n",
        "\n",
        "base_path = '/content/drive/MyDrive/Dataset/ISIC_2019'\n",
        "\n",
        "train_image_path = os.path.join(base_path, 'ISIC_2019_Training_Input')\n",
        "# test_image_path = os.path.join(base_path, 'ISIC_2019_Test_Input')\n",
        "\n",
        "# train_metadata_path = os.path.join(base_path, 'ISIC_2019_Training_Metadata.csv')\n",
        "# test_metadata_path = os.path.join(base_path, 'ISIC_2019_Test_Metadata.csv')\n",
        "\n",
        "train_label_path = os.path.join(base_path, 'ISIC_2019_Training_GroundTruth.csv')"
      ],
      "metadata": {
        "id": "j890BSdDHqKb"
      },
      "execution_count": null,
      "outputs": []
    },
    {
      "cell_type": "code",
      "source": [
        "# Explore image file counts in both input folders\n",
        "train_image_files = os.listdir(train_image_path)\n",
        "# test_image_files = os.listdir(test_image_path)\n",
        "\n",
        "print(f\"Number of images in Training Input Folder: {len(train_image_files)}\")\n",
        "# print(f\"Number of images in Test Input Folder: {len(test_image_files)}\")"
      ],
      "metadata": {
        "colab": {
          "base_uri": "https://localhost:8080/"
        },
        "id": "Owq_5l68HtgH",
        "outputId": "b1ed46b9-3a6a-4a13-f8c2-f6967fe7a525"
      },
      "execution_count": null,
      "outputs": [
        {
          "output_type": "stream",
          "name": "stdout",
          "text": [
            "Number of images in Training Input Folder: 25393\n"
          ]
        }
      ]
    },
    {
      "cell_type": "code",
      "source": [
        "train_lables = pd.read_csv(train_label_path)\n",
        "train_lables.head()"
      ],
      "metadata": {
        "colab": {
          "base_uri": "https://localhost:8080/",
          "height": 206
        },
        "id": "AXYCMyYsH0DR",
        "outputId": "b3966b61-3311-43e7-ce6f-2fa68b983a60"
      },
      "execution_count": null,
      "outputs": [
        {
          "output_type": "execute_result",
          "data": {
            "text/plain": [
              "          image  MEL   NV  BCC   AK  BKL   DF  VASC  SCC  UNK\n",
              "0  ISIC_0000000  0.0  1.0  0.0  0.0  0.0  0.0   0.0  0.0  0.0\n",
              "1  ISIC_0000001  0.0  1.0  0.0  0.0  0.0  0.0   0.0  0.0  0.0\n",
              "2  ISIC_0000002  1.0  0.0  0.0  0.0  0.0  0.0   0.0  0.0  0.0\n",
              "3  ISIC_0000003  0.0  1.0  0.0  0.0  0.0  0.0   0.0  0.0  0.0\n",
              "4  ISIC_0000004  1.0  0.0  0.0  0.0  0.0  0.0   0.0  0.0  0.0"
            ],
            "text/html": [
              "\n",
              "  <div id=\"df-833c0741-6769-46a9-8fff-b8340720dc73\" class=\"colab-df-container\">\n",
              "    <div>\n",
              "<style scoped>\n",
              "    .dataframe tbody tr th:only-of-type {\n",
              "        vertical-align: middle;\n",
              "    }\n",
              "\n",
              "    .dataframe tbody tr th {\n",
              "        vertical-align: top;\n",
              "    }\n",
              "\n",
              "    .dataframe thead th {\n",
              "        text-align: right;\n",
              "    }\n",
              "</style>\n",
              "<table border=\"1\" class=\"dataframe\">\n",
              "  <thead>\n",
              "    <tr style=\"text-align: right;\">\n",
              "      <th></th>\n",
              "      <th>image</th>\n",
              "      <th>MEL</th>\n",
              "      <th>NV</th>\n",
              "      <th>BCC</th>\n",
              "      <th>AK</th>\n",
              "      <th>BKL</th>\n",
              "      <th>DF</th>\n",
              "      <th>VASC</th>\n",
              "      <th>SCC</th>\n",
              "      <th>UNK</th>\n",
              "    </tr>\n",
              "  </thead>\n",
              "  <tbody>\n",
              "    <tr>\n",
              "      <th>0</th>\n",
              "      <td>ISIC_0000000</td>\n",
              "      <td>0.0</td>\n",
              "      <td>1.0</td>\n",
              "      <td>0.0</td>\n",
              "      <td>0.0</td>\n",
              "      <td>0.0</td>\n",
              "      <td>0.0</td>\n",
              "      <td>0.0</td>\n",
              "      <td>0.0</td>\n",
              "      <td>0.0</td>\n",
              "    </tr>\n",
              "    <tr>\n",
              "      <th>1</th>\n",
              "      <td>ISIC_0000001</td>\n",
              "      <td>0.0</td>\n",
              "      <td>1.0</td>\n",
              "      <td>0.0</td>\n",
              "      <td>0.0</td>\n",
              "      <td>0.0</td>\n",
              "      <td>0.0</td>\n",
              "      <td>0.0</td>\n",
              "      <td>0.0</td>\n",
              "      <td>0.0</td>\n",
              "    </tr>\n",
              "    <tr>\n",
              "      <th>2</th>\n",
              "      <td>ISIC_0000002</td>\n",
              "      <td>1.0</td>\n",
              "      <td>0.0</td>\n",
              "      <td>0.0</td>\n",
              "      <td>0.0</td>\n",
              "      <td>0.0</td>\n",
              "      <td>0.0</td>\n",
              "      <td>0.0</td>\n",
              "      <td>0.0</td>\n",
              "      <td>0.0</td>\n",
              "    </tr>\n",
              "    <tr>\n",
              "      <th>3</th>\n",
              "      <td>ISIC_0000003</td>\n",
              "      <td>0.0</td>\n",
              "      <td>1.0</td>\n",
              "      <td>0.0</td>\n",
              "      <td>0.0</td>\n",
              "      <td>0.0</td>\n",
              "      <td>0.0</td>\n",
              "      <td>0.0</td>\n",
              "      <td>0.0</td>\n",
              "      <td>0.0</td>\n",
              "    </tr>\n",
              "    <tr>\n",
              "      <th>4</th>\n",
              "      <td>ISIC_0000004</td>\n",
              "      <td>1.0</td>\n",
              "      <td>0.0</td>\n",
              "      <td>0.0</td>\n",
              "      <td>0.0</td>\n",
              "      <td>0.0</td>\n",
              "      <td>0.0</td>\n",
              "      <td>0.0</td>\n",
              "      <td>0.0</td>\n",
              "      <td>0.0</td>\n",
              "    </tr>\n",
              "  </tbody>\n",
              "</table>\n",
              "</div>\n",
              "    <div class=\"colab-df-buttons\">\n",
              "\n",
              "  <div class=\"colab-df-container\">\n",
              "    <button class=\"colab-df-convert\" onclick=\"convertToInteractive('df-833c0741-6769-46a9-8fff-b8340720dc73')\"\n",
              "            title=\"Convert this dataframe to an interactive table.\"\n",
              "            style=\"display:none;\">\n",
              "\n",
              "  <svg xmlns=\"http://www.w3.org/2000/svg\" height=\"24px\" viewBox=\"0 -960 960 960\">\n",
              "    <path d=\"M120-120v-720h720v720H120Zm60-500h600v-160H180v160Zm220 220h160v-160H400v160Zm0 220h160v-160H400v160ZM180-400h160v-160H180v160Zm440 0h160v-160H620v160ZM180-180h160v-160H180v160Zm440 0h160v-160H620v160Z\"/>\n",
              "  </svg>\n",
              "    </button>\n",
              "\n",
              "  <style>\n",
              "    .colab-df-container {\n",
              "      display:flex;\n",
              "      gap: 12px;\n",
              "    }\n",
              "\n",
              "    .colab-df-convert {\n",
              "      background-color: #E8F0FE;\n",
              "      border: none;\n",
              "      border-radius: 50%;\n",
              "      cursor: pointer;\n",
              "      display: none;\n",
              "      fill: #1967D2;\n",
              "      height: 32px;\n",
              "      padding: 0 0 0 0;\n",
              "      width: 32px;\n",
              "    }\n",
              "\n",
              "    .colab-df-convert:hover {\n",
              "      background-color: #E2EBFA;\n",
              "      box-shadow: 0px 1px 2px rgba(60, 64, 67, 0.3), 0px 1px 3px 1px rgba(60, 64, 67, 0.15);\n",
              "      fill: #174EA6;\n",
              "    }\n",
              "\n",
              "    .colab-df-buttons div {\n",
              "      margin-bottom: 4px;\n",
              "    }\n",
              "\n",
              "    [theme=dark] .colab-df-convert {\n",
              "      background-color: #3B4455;\n",
              "      fill: #D2E3FC;\n",
              "    }\n",
              "\n",
              "    [theme=dark] .colab-df-convert:hover {\n",
              "      background-color: #434B5C;\n",
              "      box-shadow: 0px 1px 3px 1px rgba(0, 0, 0, 0.15);\n",
              "      filter: drop-shadow(0px 1px 2px rgba(0, 0, 0, 0.3));\n",
              "      fill: #FFFFFF;\n",
              "    }\n",
              "  </style>\n",
              "\n",
              "    <script>\n",
              "      const buttonEl =\n",
              "        document.querySelector('#df-833c0741-6769-46a9-8fff-b8340720dc73 button.colab-df-convert');\n",
              "      buttonEl.style.display =\n",
              "        google.colab.kernel.accessAllowed ? 'block' : 'none';\n",
              "\n",
              "      async function convertToInteractive(key) {\n",
              "        const element = document.querySelector('#df-833c0741-6769-46a9-8fff-b8340720dc73');\n",
              "        const dataTable =\n",
              "          await google.colab.kernel.invokeFunction('convertToInteractive',\n",
              "                                                    [key], {});\n",
              "        if (!dataTable) return;\n",
              "\n",
              "        const docLinkHtml = 'Like what you see? Visit the ' +\n",
              "          '<a target=\"_blank\" href=https://colab.research.google.com/notebooks/data_table.ipynb>data table notebook</a>'\n",
              "          + ' to learn more about interactive tables.';\n",
              "        element.innerHTML = '';\n",
              "        dataTable['output_type'] = 'display_data';\n",
              "        await google.colab.output.renderOutput(dataTable, element);\n",
              "        const docLink = document.createElement('div');\n",
              "        docLink.innerHTML = docLinkHtml;\n",
              "        element.appendChild(docLink);\n",
              "      }\n",
              "    </script>\n",
              "  </div>\n",
              "\n",
              "\n",
              "<div id=\"df-e9a86be4-8c00-4859-9b4f-0893fb5d1d5d\">\n",
              "  <button class=\"colab-df-quickchart\" onclick=\"quickchart('df-e9a86be4-8c00-4859-9b4f-0893fb5d1d5d')\"\n",
              "            title=\"Suggest charts\"\n",
              "            style=\"display:none;\">\n",
              "\n",
              "<svg xmlns=\"http://www.w3.org/2000/svg\" height=\"24px\"viewBox=\"0 0 24 24\"\n",
              "     width=\"24px\">\n",
              "    <g>\n",
              "        <path d=\"M19 3H5c-1.1 0-2 .9-2 2v14c0 1.1.9 2 2 2h14c1.1 0 2-.9 2-2V5c0-1.1-.9-2-2-2zM9 17H7v-7h2v7zm4 0h-2V7h2v10zm4 0h-2v-4h2v4z\"/>\n",
              "    </g>\n",
              "</svg>\n",
              "  </button>\n",
              "\n",
              "<style>\n",
              "  .colab-df-quickchart {\n",
              "      --bg-color: #E8F0FE;\n",
              "      --fill-color: #1967D2;\n",
              "      --hover-bg-color: #E2EBFA;\n",
              "      --hover-fill-color: #174EA6;\n",
              "      --disabled-fill-color: #AAA;\n",
              "      --disabled-bg-color: #DDD;\n",
              "  }\n",
              "\n",
              "  [theme=dark] .colab-df-quickchart {\n",
              "      --bg-color: #3B4455;\n",
              "      --fill-color: #D2E3FC;\n",
              "      --hover-bg-color: #434B5C;\n",
              "      --hover-fill-color: #FFFFFF;\n",
              "      --disabled-bg-color: #3B4455;\n",
              "      --disabled-fill-color: #666;\n",
              "  }\n",
              "\n",
              "  .colab-df-quickchart {\n",
              "    background-color: var(--bg-color);\n",
              "    border: none;\n",
              "    border-radius: 50%;\n",
              "    cursor: pointer;\n",
              "    display: none;\n",
              "    fill: var(--fill-color);\n",
              "    height: 32px;\n",
              "    padding: 0;\n",
              "    width: 32px;\n",
              "  }\n",
              "\n",
              "  .colab-df-quickchart:hover {\n",
              "    background-color: var(--hover-bg-color);\n",
              "    box-shadow: 0 1px 2px rgba(60, 64, 67, 0.3), 0 1px 3px 1px rgba(60, 64, 67, 0.15);\n",
              "    fill: var(--button-hover-fill-color);\n",
              "  }\n",
              "\n",
              "  .colab-df-quickchart-complete:disabled,\n",
              "  .colab-df-quickchart-complete:disabled:hover {\n",
              "    background-color: var(--disabled-bg-color);\n",
              "    fill: var(--disabled-fill-color);\n",
              "    box-shadow: none;\n",
              "  }\n",
              "\n",
              "  .colab-df-spinner {\n",
              "    border: 2px solid var(--fill-color);\n",
              "    border-color: transparent;\n",
              "    border-bottom-color: var(--fill-color);\n",
              "    animation:\n",
              "      spin 1s steps(1) infinite;\n",
              "  }\n",
              "\n",
              "  @keyframes spin {\n",
              "    0% {\n",
              "      border-color: transparent;\n",
              "      border-bottom-color: var(--fill-color);\n",
              "      border-left-color: var(--fill-color);\n",
              "    }\n",
              "    20% {\n",
              "      border-color: transparent;\n",
              "      border-left-color: var(--fill-color);\n",
              "      border-top-color: var(--fill-color);\n",
              "    }\n",
              "    30% {\n",
              "      border-color: transparent;\n",
              "      border-left-color: var(--fill-color);\n",
              "      border-top-color: var(--fill-color);\n",
              "      border-right-color: var(--fill-color);\n",
              "    }\n",
              "    40% {\n",
              "      border-color: transparent;\n",
              "      border-right-color: var(--fill-color);\n",
              "      border-top-color: var(--fill-color);\n",
              "    }\n",
              "    60% {\n",
              "      border-color: transparent;\n",
              "      border-right-color: var(--fill-color);\n",
              "    }\n",
              "    80% {\n",
              "      border-color: transparent;\n",
              "      border-right-color: var(--fill-color);\n",
              "      border-bottom-color: var(--fill-color);\n",
              "    }\n",
              "    90% {\n",
              "      border-color: transparent;\n",
              "      border-bottom-color: var(--fill-color);\n",
              "    }\n",
              "  }\n",
              "</style>\n",
              "\n",
              "  <script>\n",
              "    async function quickchart(key) {\n",
              "      const quickchartButtonEl =\n",
              "        document.querySelector('#' + key + ' button');\n",
              "      quickchartButtonEl.disabled = true;  // To prevent multiple clicks.\n",
              "      quickchartButtonEl.classList.add('colab-df-spinner');\n",
              "      try {\n",
              "        const charts = await google.colab.kernel.invokeFunction(\n",
              "            'suggestCharts', [key], {});\n",
              "      } catch (error) {\n",
              "        console.error('Error during call to suggestCharts:', error);\n",
              "      }\n",
              "      quickchartButtonEl.classList.remove('colab-df-spinner');\n",
              "      quickchartButtonEl.classList.add('colab-df-quickchart-complete');\n",
              "    }\n",
              "    (() => {\n",
              "      let quickchartButtonEl =\n",
              "        document.querySelector('#df-e9a86be4-8c00-4859-9b4f-0893fb5d1d5d button');\n",
              "      quickchartButtonEl.style.display =\n",
              "        google.colab.kernel.accessAllowed ? 'block' : 'none';\n",
              "    })();\n",
              "  </script>\n",
              "</div>\n",
              "\n",
              "    </div>\n",
              "  </div>\n"
            ],
            "application/vnd.google.colaboratory.intrinsic+json": {
              "type": "dataframe",
              "variable_name": "train_lables",
              "summary": "{\n  \"name\": \"train_lables\",\n  \"rows\": 25331,\n  \"fields\": [\n    {\n      \"column\": \"image\",\n      \"properties\": {\n        \"dtype\": \"string\",\n        \"num_unique_values\": 25331,\n        \"samples\": [\n          \"ISIC_0000360\",\n          \"ISIC_0031596\",\n          \"ISIC_0069981\"\n        ],\n        \"semantic_type\": \"\",\n        \"description\": \"\"\n      }\n    },\n    {\n      \"column\": \"MEL\",\n      \"properties\": {\n        \"dtype\": \"number\",\n        \"std\": 0.3829544511327869,\n        \"min\": 0.0,\n        \"max\": 1.0,\n        \"num_unique_values\": 2,\n        \"samples\": [\n          1.0,\n          0.0\n        ],\n        \"semantic_type\": \"\",\n        \"description\": \"\"\n      }\n    },\n    {\n      \"column\": \"NV\",\n      \"properties\": {\n        \"dtype\": \"number\",\n        \"std\": 0.49994146244555254,\n        \"min\": 0.0,\n        \"max\": 1.0,\n        \"num_unique_values\": 2,\n        \"samples\": [\n          0.0,\n          1.0\n        ],\n        \"semantic_type\": \"\",\n        \"description\": \"\"\n      }\n    },\n    {\n      \"column\": \"BCC\",\n      \"properties\": {\n        \"dtype\": \"number\",\n        \"std\": 0.3376071976055338,\n        \"min\": 0.0,\n        \"max\": 1.0,\n        \"num_unique_values\": 2,\n        \"samples\": [\n          1.0,\n          0.0\n        ],\n        \"semantic_type\": \"\",\n        \"description\": \"\"\n      }\n    },\n    {\n      \"column\": \"AK\",\n      \"properties\": {\n        \"dtype\": \"number\",\n        \"std\": 0.18181492051429826,\n        \"min\": 0.0,\n        \"max\": 1.0,\n        \"num_unique_values\": 2,\n        \"samples\": [\n          1.0,\n          0.0\n        ],\n        \"semantic_type\": \"\",\n        \"description\": \"\"\n      }\n    },\n    {\n      \"column\": \"BKL\",\n      \"properties\": {\n        \"dtype\": \"number\",\n        \"std\": 0.30473197962790777,\n        \"min\": 0.0,\n        \"max\": 1.0,\n        \"num_unique_values\": 2,\n        \"samples\": [\n          1.0,\n          0.0\n        ],\n        \"semantic_type\": \"\",\n        \"description\": \"\"\n      }\n    },\n    {\n      \"column\": \"DF\",\n      \"properties\": {\n        \"dtype\": \"number\",\n        \"std\": 0.09667692482007674,\n        \"min\": 0.0,\n        \"max\": 1.0,\n        \"num_unique_values\": 2,\n        \"samples\": [\n          1.0,\n          0.0\n        ],\n        \"semantic_type\": \"\",\n        \"description\": \"\"\n      }\n    },\n    {\n      \"column\": \"VASC\",\n      \"properties\": {\n        \"dtype\": \"number\",\n        \"std\": 0.09944041938641082,\n        \"min\": 0.0,\n        \"max\": 1.0,\n        \"num_unique_values\": 2,\n        \"samples\": [\n          1.0,\n          0.0\n        ],\n        \"semantic_type\": \"\",\n        \"description\": \"\"\n      }\n    },\n    {\n      \"column\": \"SCC\",\n      \"properties\": {\n        \"dtype\": \"number\",\n        \"std\": 0.1554930236360787,\n        \"min\": 0.0,\n        \"max\": 1.0,\n        \"num_unique_values\": 2,\n        \"samples\": [\n          1.0,\n          0.0\n        ],\n        \"semantic_type\": \"\",\n        \"description\": \"\"\n      }\n    },\n    {\n      \"column\": \"UNK\",\n      \"properties\": {\n        \"dtype\": \"number\",\n        \"std\": 0.0,\n        \"min\": 0.0,\n        \"max\": 0.0,\n        \"num_unique_values\": 1,\n        \"samples\": [\n          0.0\n        ],\n        \"semantic_type\": \"\",\n        \"description\": \"\"\n      }\n    }\n  ]\n}"
            }
          },
          "metadata": {},
          "execution_count": 5
        }
      ]
    },
    {
      "cell_type": "code",
      "source": [
        "train_lables.describe()"
      ],
      "metadata": {
        "colab": {
          "base_uri": "https://localhost:8080/",
          "height": 300
        },
        "id": "WHXK_km5H1tY",
        "outputId": "6f1b7b73-4eed-4bbb-fcfa-309de276f457"
      },
      "execution_count": null,
      "outputs": [
        {
          "output_type": "execute_result",
          "data": {
            "text/plain": [
              "                MEL            NV           BCC            AK           BKL  \\\n",
              "count  25331.000000  25331.000000  25331.000000  25331.000000  25331.000000   \n",
              "mean       0.178516      0.508270      0.131183      0.034227      0.103588   \n",
              "std        0.382954      0.499941      0.337607      0.181815      0.304732   \n",
              "min        0.000000      0.000000      0.000000      0.000000      0.000000   \n",
              "25%        0.000000      0.000000      0.000000      0.000000      0.000000   \n",
              "50%        0.000000      1.000000      0.000000      0.000000      0.000000   \n",
              "75%        0.000000      1.000000      0.000000      0.000000      0.000000   \n",
              "max        1.000000      1.000000      1.000000      1.000000      1.000000   \n",
              "\n",
              "                 DF          VASC           SCC      UNK  \n",
              "count  25331.000000  25331.000000  25331.000000  25331.0  \n",
              "mean       0.009435      0.009988      0.024792      0.0  \n",
              "std        0.096677      0.099440      0.155493      0.0  \n",
              "min        0.000000      0.000000      0.000000      0.0  \n",
              "25%        0.000000      0.000000      0.000000      0.0  \n",
              "50%        0.000000      0.000000      0.000000      0.0  \n",
              "75%        0.000000      0.000000      0.000000      0.0  \n",
              "max        1.000000      1.000000      1.000000      0.0  "
            ],
            "text/html": [
              "\n",
              "  <div id=\"df-4af4cf94-ead7-4f0d-aabe-84b6639075bf\" class=\"colab-df-container\">\n",
              "    <div>\n",
              "<style scoped>\n",
              "    .dataframe tbody tr th:only-of-type {\n",
              "        vertical-align: middle;\n",
              "    }\n",
              "\n",
              "    .dataframe tbody tr th {\n",
              "        vertical-align: top;\n",
              "    }\n",
              "\n",
              "    .dataframe thead th {\n",
              "        text-align: right;\n",
              "    }\n",
              "</style>\n",
              "<table border=\"1\" class=\"dataframe\">\n",
              "  <thead>\n",
              "    <tr style=\"text-align: right;\">\n",
              "      <th></th>\n",
              "      <th>MEL</th>\n",
              "      <th>NV</th>\n",
              "      <th>BCC</th>\n",
              "      <th>AK</th>\n",
              "      <th>BKL</th>\n",
              "      <th>DF</th>\n",
              "      <th>VASC</th>\n",
              "      <th>SCC</th>\n",
              "      <th>UNK</th>\n",
              "    </tr>\n",
              "  </thead>\n",
              "  <tbody>\n",
              "    <tr>\n",
              "      <th>count</th>\n",
              "      <td>25331.000000</td>\n",
              "      <td>25331.000000</td>\n",
              "      <td>25331.000000</td>\n",
              "      <td>25331.000000</td>\n",
              "      <td>25331.000000</td>\n",
              "      <td>25331.000000</td>\n",
              "      <td>25331.000000</td>\n",
              "      <td>25331.000000</td>\n",
              "      <td>25331.0</td>\n",
              "    </tr>\n",
              "    <tr>\n",
              "      <th>mean</th>\n",
              "      <td>0.178516</td>\n",
              "      <td>0.508270</td>\n",
              "      <td>0.131183</td>\n",
              "      <td>0.034227</td>\n",
              "      <td>0.103588</td>\n",
              "      <td>0.009435</td>\n",
              "      <td>0.009988</td>\n",
              "      <td>0.024792</td>\n",
              "      <td>0.0</td>\n",
              "    </tr>\n",
              "    <tr>\n",
              "      <th>std</th>\n",
              "      <td>0.382954</td>\n",
              "      <td>0.499941</td>\n",
              "      <td>0.337607</td>\n",
              "      <td>0.181815</td>\n",
              "      <td>0.304732</td>\n",
              "      <td>0.096677</td>\n",
              "      <td>0.099440</td>\n",
              "      <td>0.155493</td>\n",
              "      <td>0.0</td>\n",
              "    </tr>\n",
              "    <tr>\n",
              "      <th>min</th>\n",
              "      <td>0.000000</td>\n",
              "      <td>0.000000</td>\n",
              "      <td>0.000000</td>\n",
              "      <td>0.000000</td>\n",
              "      <td>0.000000</td>\n",
              "      <td>0.000000</td>\n",
              "      <td>0.000000</td>\n",
              "      <td>0.000000</td>\n",
              "      <td>0.0</td>\n",
              "    </tr>\n",
              "    <tr>\n",
              "      <th>25%</th>\n",
              "      <td>0.000000</td>\n",
              "      <td>0.000000</td>\n",
              "      <td>0.000000</td>\n",
              "      <td>0.000000</td>\n",
              "      <td>0.000000</td>\n",
              "      <td>0.000000</td>\n",
              "      <td>0.000000</td>\n",
              "      <td>0.000000</td>\n",
              "      <td>0.0</td>\n",
              "    </tr>\n",
              "    <tr>\n",
              "      <th>50%</th>\n",
              "      <td>0.000000</td>\n",
              "      <td>1.000000</td>\n",
              "      <td>0.000000</td>\n",
              "      <td>0.000000</td>\n",
              "      <td>0.000000</td>\n",
              "      <td>0.000000</td>\n",
              "      <td>0.000000</td>\n",
              "      <td>0.000000</td>\n",
              "      <td>0.0</td>\n",
              "    </tr>\n",
              "    <tr>\n",
              "      <th>75%</th>\n",
              "      <td>0.000000</td>\n",
              "      <td>1.000000</td>\n",
              "      <td>0.000000</td>\n",
              "      <td>0.000000</td>\n",
              "      <td>0.000000</td>\n",
              "      <td>0.000000</td>\n",
              "      <td>0.000000</td>\n",
              "      <td>0.000000</td>\n",
              "      <td>0.0</td>\n",
              "    </tr>\n",
              "    <tr>\n",
              "      <th>max</th>\n",
              "      <td>1.000000</td>\n",
              "      <td>1.000000</td>\n",
              "      <td>1.000000</td>\n",
              "      <td>1.000000</td>\n",
              "      <td>1.000000</td>\n",
              "      <td>1.000000</td>\n",
              "      <td>1.000000</td>\n",
              "      <td>1.000000</td>\n",
              "      <td>0.0</td>\n",
              "    </tr>\n",
              "  </tbody>\n",
              "</table>\n",
              "</div>\n",
              "    <div class=\"colab-df-buttons\">\n",
              "\n",
              "  <div class=\"colab-df-container\">\n",
              "    <button class=\"colab-df-convert\" onclick=\"convertToInteractive('df-4af4cf94-ead7-4f0d-aabe-84b6639075bf')\"\n",
              "            title=\"Convert this dataframe to an interactive table.\"\n",
              "            style=\"display:none;\">\n",
              "\n",
              "  <svg xmlns=\"http://www.w3.org/2000/svg\" height=\"24px\" viewBox=\"0 -960 960 960\">\n",
              "    <path d=\"M120-120v-720h720v720H120Zm60-500h600v-160H180v160Zm220 220h160v-160H400v160Zm0 220h160v-160H400v160ZM180-400h160v-160H180v160Zm440 0h160v-160H620v160ZM180-180h160v-160H180v160Zm440 0h160v-160H620v160Z\"/>\n",
              "  </svg>\n",
              "    </button>\n",
              "\n",
              "  <style>\n",
              "    .colab-df-container {\n",
              "      display:flex;\n",
              "      gap: 12px;\n",
              "    }\n",
              "\n",
              "    .colab-df-convert {\n",
              "      background-color: #E8F0FE;\n",
              "      border: none;\n",
              "      border-radius: 50%;\n",
              "      cursor: pointer;\n",
              "      display: none;\n",
              "      fill: #1967D2;\n",
              "      height: 32px;\n",
              "      padding: 0 0 0 0;\n",
              "      width: 32px;\n",
              "    }\n",
              "\n",
              "    .colab-df-convert:hover {\n",
              "      background-color: #E2EBFA;\n",
              "      box-shadow: 0px 1px 2px rgba(60, 64, 67, 0.3), 0px 1px 3px 1px rgba(60, 64, 67, 0.15);\n",
              "      fill: #174EA6;\n",
              "    }\n",
              "\n",
              "    .colab-df-buttons div {\n",
              "      margin-bottom: 4px;\n",
              "    }\n",
              "\n",
              "    [theme=dark] .colab-df-convert {\n",
              "      background-color: #3B4455;\n",
              "      fill: #D2E3FC;\n",
              "    }\n",
              "\n",
              "    [theme=dark] .colab-df-convert:hover {\n",
              "      background-color: #434B5C;\n",
              "      box-shadow: 0px 1px 3px 1px rgba(0, 0, 0, 0.15);\n",
              "      filter: drop-shadow(0px 1px 2px rgba(0, 0, 0, 0.3));\n",
              "      fill: #FFFFFF;\n",
              "    }\n",
              "  </style>\n",
              "\n",
              "    <script>\n",
              "      const buttonEl =\n",
              "        document.querySelector('#df-4af4cf94-ead7-4f0d-aabe-84b6639075bf button.colab-df-convert');\n",
              "      buttonEl.style.display =\n",
              "        google.colab.kernel.accessAllowed ? 'block' : 'none';\n",
              "\n",
              "      async function convertToInteractive(key) {\n",
              "        const element = document.querySelector('#df-4af4cf94-ead7-4f0d-aabe-84b6639075bf');\n",
              "        const dataTable =\n",
              "          await google.colab.kernel.invokeFunction('convertToInteractive',\n",
              "                                                    [key], {});\n",
              "        if (!dataTable) return;\n",
              "\n",
              "        const docLinkHtml = 'Like what you see? Visit the ' +\n",
              "          '<a target=\"_blank\" href=https://colab.research.google.com/notebooks/data_table.ipynb>data table notebook</a>'\n",
              "          + ' to learn more about interactive tables.';\n",
              "        element.innerHTML = '';\n",
              "        dataTable['output_type'] = 'display_data';\n",
              "        await google.colab.output.renderOutput(dataTable, element);\n",
              "        const docLink = document.createElement('div');\n",
              "        docLink.innerHTML = docLinkHtml;\n",
              "        element.appendChild(docLink);\n",
              "      }\n",
              "    </script>\n",
              "  </div>\n",
              "\n",
              "\n",
              "<div id=\"df-9733bf45-fb08-42b4-a248-02b68f78ca28\">\n",
              "  <button class=\"colab-df-quickchart\" onclick=\"quickchart('df-9733bf45-fb08-42b4-a248-02b68f78ca28')\"\n",
              "            title=\"Suggest charts\"\n",
              "            style=\"display:none;\">\n",
              "\n",
              "<svg xmlns=\"http://www.w3.org/2000/svg\" height=\"24px\"viewBox=\"0 0 24 24\"\n",
              "     width=\"24px\">\n",
              "    <g>\n",
              "        <path d=\"M19 3H5c-1.1 0-2 .9-2 2v14c0 1.1.9 2 2 2h14c1.1 0 2-.9 2-2V5c0-1.1-.9-2-2-2zM9 17H7v-7h2v7zm4 0h-2V7h2v10zm4 0h-2v-4h2v4z\"/>\n",
              "    </g>\n",
              "</svg>\n",
              "  </button>\n",
              "\n",
              "<style>\n",
              "  .colab-df-quickchart {\n",
              "      --bg-color: #E8F0FE;\n",
              "      --fill-color: #1967D2;\n",
              "      --hover-bg-color: #E2EBFA;\n",
              "      --hover-fill-color: #174EA6;\n",
              "      --disabled-fill-color: #AAA;\n",
              "      --disabled-bg-color: #DDD;\n",
              "  }\n",
              "\n",
              "  [theme=dark] .colab-df-quickchart {\n",
              "      --bg-color: #3B4455;\n",
              "      --fill-color: #D2E3FC;\n",
              "      --hover-bg-color: #434B5C;\n",
              "      --hover-fill-color: #FFFFFF;\n",
              "      --disabled-bg-color: #3B4455;\n",
              "      --disabled-fill-color: #666;\n",
              "  }\n",
              "\n",
              "  .colab-df-quickchart {\n",
              "    background-color: var(--bg-color);\n",
              "    border: none;\n",
              "    border-radius: 50%;\n",
              "    cursor: pointer;\n",
              "    display: none;\n",
              "    fill: var(--fill-color);\n",
              "    height: 32px;\n",
              "    padding: 0;\n",
              "    width: 32px;\n",
              "  }\n",
              "\n",
              "  .colab-df-quickchart:hover {\n",
              "    background-color: var(--hover-bg-color);\n",
              "    box-shadow: 0 1px 2px rgba(60, 64, 67, 0.3), 0 1px 3px 1px rgba(60, 64, 67, 0.15);\n",
              "    fill: var(--button-hover-fill-color);\n",
              "  }\n",
              "\n",
              "  .colab-df-quickchart-complete:disabled,\n",
              "  .colab-df-quickchart-complete:disabled:hover {\n",
              "    background-color: var(--disabled-bg-color);\n",
              "    fill: var(--disabled-fill-color);\n",
              "    box-shadow: none;\n",
              "  }\n",
              "\n",
              "  .colab-df-spinner {\n",
              "    border: 2px solid var(--fill-color);\n",
              "    border-color: transparent;\n",
              "    border-bottom-color: var(--fill-color);\n",
              "    animation:\n",
              "      spin 1s steps(1) infinite;\n",
              "  }\n",
              "\n",
              "  @keyframes spin {\n",
              "    0% {\n",
              "      border-color: transparent;\n",
              "      border-bottom-color: var(--fill-color);\n",
              "      border-left-color: var(--fill-color);\n",
              "    }\n",
              "    20% {\n",
              "      border-color: transparent;\n",
              "      border-left-color: var(--fill-color);\n",
              "      border-top-color: var(--fill-color);\n",
              "    }\n",
              "    30% {\n",
              "      border-color: transparent;\n",
              "      border-left-color: var(--fill-color);\n",
              "      border-top-color: var(--fill-color);\n",
              "      border-right-color: var(--fill-color);\n",
              "    }\n",
              "    40% {\n",
              "      border-color: transparent;\n",
              "      border-right-color: var(--fill-color);\n",
              "      border-top-color: var(--fill-color);\n",
              "    }\n",
              "    60% {\n",
              "      border-color: transparent;\n",
              "      border-right-color: var(--fill-color);\n",
              "    }\n",
              "    80% {\n",
              "      border-color: transparent;\n",
              "      border-right-color: var(--fill-color);\n",
              "      border-bottom-color: var(--fill-color);\n",
              "    }\n",
              "    90% {\n",
              "      border-color: transparent;\n",
              "      border-bottom-color: var(--fill-color);\n",
              "    }\n",
              "  }\n",
              "</style>\n",
              "\n",
              "  <script>\n",
              "    async function quickchart(key) {\n",
              "      const quickchartButtonEl =\n",
              "        document.querySelector('#' + key + ' button');\n",
              "      quickchartButtonEl.disabled = true;  // To prevent multiple clicks.\n",
              "      quickchartButtonEl.classList.add('colab-df-spinner');\n",
              "      try {\n",
              "        const charts = await google.colab.kernel.invokeFunction(\n",
              "            'suggestCharts', [key], {});\n",
              "      } catch (error) {\n",
              "        console.error('Error during call to suggestCharts:', error);\n",
              "      }\n",
              "      quickchartButtonEl.classList.remove('colab-df-spinner');\n",
              "      quickchartButtonEl.classList.add('colab-df-quickchart-complete');\n",
              "    }\n",
              "    (() => {\n",
              "      let quickchartButtonEl =\n",
              "        document.querySelector('#df-9733bf45-fb08-42b4-a248-02b68f78ca28 button');\n",
              "      quickchartButtonEl.style.display =\n",
              "        google.colab.kernel.accessAllowed ? 'block' : 'none';\n",
              "    })();\n",
              "  </script>\n",
              "</div>\n",
              "\n",
              "    </div>\n",
              "  </div>\n"
            ],
            "application/vnd.google.colaboratory.intrinsic+json": {
              "type": "dataframe",
              "summary": "{\n  \"name\": \"train_lables\",\n  \"rows\": 8,\n  \"fields\": [\n    {\n      \"column\": \"MEL\",\n      \"properties\": {\n        \"dtype\": \"number\",\n        \"std\": 8955.7820775499,\n        \"min\": 0.0,\n        \"max\": 25331.0,\n        \"num_unique_values\": 5,\n        \"samples\": [\n          0.1785164423038964,\n          1.0,\n          0.3829544511327869\n        ],\n        \"semantic_type\": \"\",\n        \"description\": \"\"\n      }\n    },\n    {\n      \"column\": \"NV\",\n      \"properties\": {\n        \"dtype\": \"number\",\n        \"std\": 8955.658501518656,\n        \"min\": 0.0,\n        \"max\": 25331.0,\n        \"num_unique_values\": 5,\n        \"samples\": [\n          0.5082704985985551,\n          1.0,\n          0.49994146244555254\n        ],\n        \"semantic_type\": \"\",\n        \"description\": \"\"\n      }\n    },\n    {\n      \"column\": \"BCC\",\n      \"properties\": {\n        \"dtype\": \"number\",\n        \"std\": 8955.786758567563,\n        \"min\": 0.0,\n        \"max\": 25331.0,\n        \"num_unique_values\": 5,\n        \"samples\": [\n          0.1311831352887766,\n          1.0,\n          0.3376071976055338\n        ],\n        \"semantic_type\": \"\",\n        \"description\": \"\"\n      }\n    },\n    {\n      \"column\": \"AK\",\n      \"properties\": {\n        \"dtype\": \"number\",\n        \"std\": 8955.799524298252,\n        \"min\": 0.0,\n        \"max\": 25331.0,\n        \"num_unique_values\": 5,\n        \"samples\": [\n          0.034226836682326005,\n          1.0,\n          0.18181492051429826\n        ],\n        \"semantic_type\": \"\",\n        \"description\": \"\"\n      }\n    },\n    {\n      \"column\": \"BKL\",\n      \"properties\": {\n        \"dtype\": \"number\",\n        \"std\": 8955.789812735089,\n        \"min\": 0.0,\n        \"max\": 25331.0,\n        \"num_unique_values\": 5,\n        \"samples\": [\n          0.1035884884134065,\n          1.0,\n          0.30473197962790777\n        ],\n        \"semantic_type\": \"\",\n        \"description\": \"\"\n      }\n    },\n    {\n      \"column\": \"DF\",\n      \"properties\": {\n        \"dtype\": \"number\",\n        \"std\": 8955.80507668234,\n        \"min\": 0.0,\n        \"max\": 25331.0,\n        \"num_unique_values\": 5,\n        \"samples\": [\n          0.009435079546800363,\n          1.0,\n          0.09667692482007674\n        ],\n        \"semantic_type\": \"\",\n        \"description\": \"\"\n      }\n    },\n    {\n      \"column\": \"VASC\",\n      \"properties\": {\n        \"dtype\": \"number\",\n        \"std\": 8955.804909186145,\n        \"min\": 0.0,\n        \"max\": 25331.0,\n        \"num_unique_values\": 5,\n        \"samples\": [\n          0.009987762030713354,\n          1.0,\n          0.09944041938641082\n        ],\n        \"semantic_type\": \"\",\n        \"description\": \"\"\n      }\n    },\n    {\n      \"column\": \"SCC\",\n      \"properties\": {\n        \"dtype\": \"number\",\n        \"std\": 8955.801330320663,\n        \"min\": 0.0,\n        \"max\": 25331.0,\n        \"num_unique_values\": 5,\n        \"samples\": [\n          0.02479175713552564,\n          1.0,\n          0.1554930236360787\n        ],\n        \"semantic_type\": \"\",\n        \"description\": \"\"\n      }\n    },\n    {\n      \"column\": \"UNK\",\n      \"properties\": {\n        \"dtype\": \"number\",\n        \"std\": 8955.860937118217,\n        \"min\": 0.0,\n        \"max\": 25331.0,\n        \"num_unique_values\": 2,\n        \"samples\": [\n          0.0,\n          25331.0\n        ],\n        \"semantic_type\": \"\",\n        \"description\": \"\"\n      }\n    }\n  ]\n}"
            }
          },
          "metadata": {},
          "execution_count": 6
        }
      ]
    },
    {
      "cell_type": "code",
      "source": [
        "train_lables = train_lables.drop(columns=['UNK'])"
      ],
      "metadata": {
        "id": "mY8_a9LCH3jh"
      },
      "execution_count": null,
      "outputs": []
    },
    {
      "cell_type": "code",
      "source": [
        "import seaborn as sns\n",
        "\n",
        "# Visualize distribution of data in the ground truth file\n",
        "groundtruth_summary = train_lables.iloc[:, 1:].sum()   # (ignoring the first column that is header of column)\n",
        "plt.figure(figsize=(10, 6))\n",
        "sns.barplot(x=groundtruth_summary.index, y=groundtruth_summary.values, palette=\"viridis\")\n",
        "\n",
        "# Add total count labels above each bar\n",
        "for i, count in enumerate(groundtruth_summary.values):\n",
        "    plt.text(i, count + 10, f'{int(count)}', ha='center', va='bottom', fontsize=10)\n",
        "\n",
        "plt.title('Distribution of Skin Lesion Types in Training Ground Truth')\n",
        "plt.xlabel('Class')\n",
        "plt.ylabel('Number of samples')\n",
        "plt.xticks(rotation=45)\n",
        "plt.show()"
      ],
      "metadata": {
        "colab": {
          "base_uri": "https://localhost:8080/",
          "height": 693
        },
        "id": "cWwoKBGIH5iU",
        "outputId": "15a6b00e-be40-4feb-93bc-7112b3d5ee63"
      },
      "execution_count": null,
      "outputs": [
        {
          "output_type": "stream",
          "name": "stderr",
          "text": [
            "<ipython-input-8-f669f7399549>:6: FutureWarning: \n",
            "\n",
            "Passing `palette` without assigning `hue` is deprecated and will be removed in v0.14.0. Assign the `x` variable to `hue` and set `legend=False` for the same effect.\n",
            "\n",
            "  sns.barplot(x=groundtruth_summary.index, y=groundtruth_summary.values, palette=\"viridis\")\n"
          ]
        },
        {
          "output_type": "display_data",
          "data": {
            "text/plain": [
              "<Figure size 1000x600 with 1 Axes>"
            ],
            "image/png": "[encoded data removed]"
          },
          "metadata": {}
        }
      ]
    },
    {
      "cell_type": "code",
      "source": [
        "# Define CONSTANT for LR, IP_SHAPE, Batch_SIZE, EPOCHS, CLASSES\n",
        "\n",
        "INPUT_SHAPE = (32, 32, 3)  # Resize images to 32x32 pixels\n",
        "NUM_CLASSES = len(train_lables.columns[1:])  # Number of skin cancer types 8\n",
        "BATCH_SIZE = 64\n",
        "EPOCHS = 100\n",
        "LEARNING_RATE = 0.001"
      ],
      "metadata": {
        "id": "HSoqowG_H-GS"
      },
      "execution_count": null,
      "outputs": []
    },
    {
      "cell_type": "code",
      "source": [
        "from collections import Counter\n",
        "\n",
        "# etract image IDs and labals from the training labels file\n",
        "\n",
        "image_ids = train_lables['image']\n",
        "labels = train_lables.iloc[:, 1:].values      #extract one hot encoded labels\n",
        "\n",
        "# Convert one-hot encoding to class labels\n",
        "y = np.argmax(labels, axis=1)  # Converts 2D one-hot array to 1D class labels\n",
        "\n",
        "# Print class distribution\n",
        "print(f\"Class distribution before oversampling: {Counter(y)}\")"
      ],
      "metadata": {
        "colab": {
          "base_uri": "https://localhost:8080/"
        },
        "id": "WbjAbP-cIA6I",
        "outputId": "60103c99-8c31-4b4f-ad7d-bc1170d1af75"
      },
      "execution_count": null,
      "outputs": [
        {
          "output_type": "stream",
          "name": "stdout",
          "text": [
            "Class distribution before oversampling: Counter({1: 12875, 0: 4522, 2: 3323, 4: 2624, 3: 867, 7: 628, 6: 253, 5: 239})\n"
          ]
        }
      ]
    },
    {
      "cell_type": "code",
      "source": [
        "# Load Training Images\n",
        "X = []\n",
        "\n",
        "for image_id in image_ids:\n",
        "    image_path = os.path.join(train_image_path, f\"{image_id}.jpg\")\n",
        "    img = load_img(image_path, target_size=(INPUT_SHAPE[0], INPUT_SHAPE[1]))  # Resize to match model input\n",
        "    img_array = img_to_array(img) / 255.0  # Normalize pixel values to [0, 1]\n",
        "    X.append(img_array)\n",
        "\n",
        "\n",
        "# Normalize images\n",
        "X = np.array(X, dtype=np.float32) / 255.0\n",
        "y = np.array(y, dtype=np.int32)\n",
        "\n",
        "X.shape, y.shape"
      ],
      "metadata": {
        "colab": {
          "base_uri": "https://localhost:8080/"
        },
        "id": "Led_gpRaIDPN",
        "outputId": "2a4aba46-8f5a-4a53-8232-a78f8483b805"
      },
      "execution_count": null,
      "outputs": [
        {
          "output_type": "execute_result",
          "data": {
            "text/plain": [
              "((25331, 32, 32, 3), (25331,))"
            ]
          },
          "metadata": {},
          "execution_count": 11
        }
      ]
    },
    {
      "cell_type": "code",
      "source": [
        "# Maximum Value Count\n",
        "\n",
        "max_samples = int(max(np.sum(labels, axis=0)))\n",
        "max_samples"
      ],
      "metadata": {
        "colab": {
          "base_uri": "https://localhost:8080/"
        },
        "id": "UFQ4HbySIJG7",
        "outputId": "9675d845-799f-4f57-b5a0-cd5174a1d775"
      },
      "execution_count": null,
      "outputs": [
        {
          "output_type": "execute_result",
          "data": {
            "text/plain": [
              "12875"
            ]
          },
          "metadata": {},
          "execution_count": 12
        }
      ]
    },
    {
      "cell_type": "code",
      "source": [
        "print(\"Shape of y:\", y.shape)\n",
        "\n",
        "\n",
        "# y is not one-hot encoded, reconvert it before oversampling\n",
        "from sklearn.preprocessing import OneHotEncoder\n",
        "\n",
        "# Check if y is 1D (class labels instead of one-hot)\n",
        "if len(y.shape) == 1:\n",
        "    y = OneHotEncoder(sparse_output=False).fit_transform(y.reshape(-1, 1))\n",
        "\n",
        "print(\"Shape of y after one-hot encoding:\", y.shape)"
      ],
      "metadata": {
        "colab": {
          "base_uri": "https://localhost:8080/"
        },
        "id": "42DWFGq6ILOc",
        "outputId": "ec87421c-5745-42c8-b4a9-1438991372ab"
      },
      "execution_count": null,
      "outputs": [
        {
          "output_type": "stream",
          "name": "stdout",
          "text": [
            "Shape of y: (25331,)\n",
            "Shape of y after one-hot encoding: (25331, 8)\n"
          ]
        }
      ]
    },
    {
      "cell_type": "code",
      "source": [
        "X_train, X_val, y_train, y_val = train_test_split(X, y, test_size=0.2, random_state=42)\n",
        "\n",
        "y_train = tf.keras.utils.to_categorical(y_train, NUM_CLASSES)\n",
        "y_val = tf.keras.utils.to_categorical(y_val, NUM_CLASSES)"
      ],
      "metadata": {
        "id": "HsgBozWdIS0H"
      },
      "execution_count": null,
      "outputs": []
    },
    {
      "cell_type": "code",
      "source": [
        "# Print shapes of the arrays\n",
        "print(\"Shape of X_train:\", X_train.shape)\n",
        "print(\"Shape of y_train:\", y_train.shape)\n",
        "print(\"Shape of X_val:\", X_val.shape)\n",
        "print(\"Shape of y_val:\", y_val.shape)\n",
        "\n",
        "# Print sizes using len()\n",
        "print(\"Number of samples in X_train:\", len(X_train))\n",
        "print(\"Number of samples in y_train:\", len(y_train))\n",
        "print(\"Number of samples in X_val:\", len(X_val))\n",
        "print(\"Number of samples in y_val:\", len(y_val))"
      ],
      "metadata": {
        "colab": {
          "base_uri": "https://localhost:8080/"
        },
        "id": "V_DuKx4JIWZg",
        "outputId": "df771d91-46ed-4394-cc83-1e90585d5c95"
      },
      "execution_count": null,
      "outputs": [
        {
          "output_type": "stream",
          "name": "stdout",
          "text": [
            "Shape of X_train: (20264, 32, 32, 3)\n",
            "Shape of y_train: (20264, 8, 8)\n",
            "Shape of X_val: (5067, 32, 32, 3)\n",
            "Shape of y_val: (5067, 8, 8)\n",
            "Number of samples in X_train: 20264\n",
            "Number of samples in y_train: 20264\n",
            "Number of samples in X_val: 5067\n",
            "Number of samples in y_val: 5067\n"
          ]
        }
      ]
    },
    {
      "cell_type": "code",
      "source": [
        "y_train = np.argmax(y_train, axis=-1)  # Converts (None, 8, 8) → (None, 8)\n",
        "y_val = np.argmax(y_val, axis=-1)\n",
        "\n",
        "print(\"New shape of y_train:\", y_train.shape)\n",
        "print(\"New shape of y_val:\", y_val.shape)"
      ],
      "metadata": {
        "colab": {
          "base_uri": "https://localhost:8080/"
        },
        "id": "D4pEJYUOIYcw",
        "outputId": "6db781ec-76f7-4540-f064-1b6d846255ff"
      },
      "execution_count": null,
      "outputs": [
        {
          "output_type": "stream",
          "name": "stdout",
          "text": [
            "New shape of y_train: (20264, 8)\n",
            "New shape of y_val: (5067, 8)\n"
          ]
        }
      ]
    },
    {
      "cell_type": "code",
      "source": [
        "# Define Custom CNN Model\n",
        "model = Sequential()\n",
        "\n",
        "# Block 1\n",
        "model.add(Conv2D(32, (3, 3), activation=\"relu\", padding=\"SAME\", input_shape=INPUT_SHAPE))\n",
        "model.add(Conv2D(32, (3, 3), activation=\"relu\", padding=\"SAME\"))\n",
        "model.add(BatchNormalization())\n",
        "model.add(MaxPooling2D(pool_size=(2, 2)))\n",
        "\n",
        "# Block 2\n",
        "model.add(Conv2D(64, (3, 3), activation=\"relu\", padding=\"SAME\"))\n",
        "model.add(Conv2D(64, (3, 3), activation=\"relu\", padding=\"SAME\"))\n",
        "model.add(BatchNormalization())\n",
        "model.add(MaxPooling2D(pool_size=(2, 2)))\n",
        "\n",
        "\n",
        "# Block 3\n",
        "model.add(Conv2D(128, (3, 3), activation=\"relu\", padding=\"SAME\"))\n",
        "model.add(Conv2D(128, (3, 3), activation=\"relu\", padding=\"SAME\"))\n",
        "model.add(BatchNormalization())\n",
        "model.add(MaxPooling2D(pool_size=(2, 2)))\n",
        "\n",
        "# Block 4\n",
        "model.add(Conv2D(256, (3, 3), activation=\"relu\", padding=\"SAME\"))\n",
        "model.add(Conv2D(256, (3, 3), activation=\"relu\", padding=\"SAME\"))\n",
        "model.add(BatchNormalization())\n",
        "model.add(MaxPooling2D(pool_size=(2, 2)))\n",
        "\n",
        "# Flatten and Fully Connected Layers\n",
        "model.add(Flatten())\n",
        "model.add(Dropout(0.5))\n",
        "model.add(Dense(256, activation=\"relu\"))\n",
        "model.add(BatchNormalization())\n",
        "model.add(Dense(128, activation=\"relu\"))\n",
        "model.add(BatchNormalization())\n",
        "model.add(Dense(64, activation=\"relu\"))\n",
        "model.add(BatchNormalization())\n",
        "model.add(Dropout(0.5))\n",
        "model.add(Dense(32, activation=\"relu\"))\n",
        "model.add(BatchNormalization())\n",
        "model.add(Dense(NUM_CLASSES, activation=\"softmax\"))"
      ],
      "metadata": {
        "colab": {
          "base_uri": "https://localhost:8080/"
        },
        "id": "UWAMw6jAIa-M",
        "outputId": "ad57bd9e-33e3-4285-e62e-d88e2e858cac"
      },
      "execution_count": null,
      "outputs": [
        {
          "output_type": "stream",
          "name": "stderr",
          "text": [
            "/usr/local/lib/python3.11/dist-packages/keras/src/layers/convolutional/base_conv.py:107: UserWarning: Do not pass an `input_shape`/`input_dim` argument to a layer. When using Sequential models, prefer using an `Input(shape)` object as the first layer in the model instead.\n",
            "  super().__init__(activity_regularizer=activity_regularizer, **kwargs)\n"
          ]
        }
      ]
    },
    {
      "cell_type": "code",
      "source": [
        "# Display Model Summary\n",
        "model.summary()"
      ],
      "metadata": {
        "colab": {
          "base_uri": "https://localhost:8080/",
          "height": 1000
        },
        "id": "qhDc0HVTIc6q",
        "outputId": "36dce1fd-f851-4bf6-9627-655bd0ecfe67"
      },
      "execution_count": null,
      "outputs": [
        {
          "output_type": "display_data",
          "data": {
            "text/plain": [
              "\u001b[1mModel: \"sequential\"\u001b[0m\n"
            ],
            "text/html": [
              "<pre style=\"white-space:pre;overflow-x:auto;line-height:normal;font-family:Menlo,'DejaVu Sans Mono',consolas,'Courier New',monospace\"><span style=\"font-weight: bold\">Model: \"sequential\"</span>\n",
              "</pre>\n"
            ]
          },
          "metadata": {}
        },
        {
          "output_type": "display_data",
          "data": {
            "text/plain": [
              "┏━━━━━━━━━━━━━━━━━━━━━━━━━━━━━━━━━━━━━━┳━━━━━━━━━━━━━━━━━━━━━━━━━━━━━┳━━━━━━━━━━━━━━━━━┓\n",
              "┃\u001b[1m \u001b[0m\u001b[1mLayer (type)                        \u001b[0m\u001b[1m \u001b[0m┃\u001b[1m \u001b[0m\u001b[1mOutput Shape               \u001b[0m\u001b[1m \u001b[0m┃\u001b[1m \u001b[0m\u001b[1m        Param #\u001b[0m\u001b[1m \u001b[0m┃\n",
              "┡━━━━━━━━━━━━━━━━━━━━━━━━━━━━━━━━━━━━━━╇━━━━━━━━━━━━━━━━━━━━━━━━━━━━━╇━━━━━━━━━━━━━━━━━┩\n",
              "│ conv2d (\u001b[38;5;33mConv2D\u001b[0m)                      │ (\u001b[38;5;45mNone\u001b[0m, \u001b[38;5;34m32\u001b[0m, \u001b[38;5;34m32\u001b[0m, \u001b[38;5;34m32\u001b[0m)          │             \u001b[38;5;34m896\u001b[0m │\n",
              "├──────────────────────────────────────┼─────────────────────────────┼─────────────────┤\n",
              "│ conv2d_1 (\u001b[38;5;33mConv2D\u001b[0m)                    │ (\u001b[38;5;45mNone\u001b[0m, \u001b[38;5;34m32\u001b[0m, \u001b[38;5;34m32\u001b[0m, \u001b[38;5;34m32\u001b[0m)          │           \u001b[38;5;34m9,248\u001b[0m │\n",
              "├──────────────────────────────────────┼─────────────────────────────┼─────────────────┤\n",
              "│ batch_normalization                  │ (\u001b[38;5;45mNone\u001b[0m, \u001b[38;5;34m32\u001b[0m, \u001b[38;5;34m32\u001b[0m, \u001b[38;5;34m32\u001b[0m)          │             \u001b[38;5;34m128\u001b[0m │\n",
              "│ (\u001b[38;5;33mBatchNormalization\u001b[0m)                 │                             │                 │\n",
              "├──────────────────────────────────────┼─────────────────────────────┼─────────────────┤\n",
              "│ max_pooling2d (\u001b[38;5;33mMaxPooling2D\u001b[0m)         │ (\u001b[38;5;45mNone\u001b[0m, \u001b[38;5;34m16\u001b[0m, \u001b[38;5;34m16\u001b[0m, \u001b[38;5;34m32\u001b[0m)          │               \u001b[38;5;34m0\u001b[0m │\n",
              "├──────────────────────────────────────┼─────────────────────────────┼─────────────────┤\n",
              "│ conv2d_2 (\u001b[38;5;33mConv2D\u001b[0m)                    │ (\u001b[38;5;45mNone\u001b[0m, \u001b[38;5;34m16\u001b[0m, \u001b[38;5;34m16\u001b[0m, \u001b[38;5;34m64\u001b[0m)          │          \u001b[38;5;34m18,496\u001b[0m │\n",
              "├──────────────────────────────────────┼─────────────────────────────┼─────────────────┤\n",
              "│ conv2d_3 (\u001b[38;5;33mConv2D\u001b[0m)                    │ (\u001b[38;5;45mNone\u001b[0m, \u001b[38;5;34m16\u001b[0m, \u001b[38;5;34m16\u001b[0m, \u001b[38;5;34m64\u001b[0m)          │          \u001b[38;5;34m36,928\u001b[0m │\n",
              "├──────────────────────────────────────┼─────────────────────────────┼─────────────────┤\n",
              "│ batch_normalization_1                │ (\u001b[38;5;45mNone\u001b[0m, \u001b[38;5;34m16\u001b[0m, \u001b[38;5;34m16\u001b[0m, \u001b[38;5;34m64\u001b[0m)          │             \u001b[38;5;34m256\u001b[0m │\n",
              "│ (\u001b[38;5;33mBatchNormalization\u001b[0m)                 │                             │                 │\n",
              "├──────────────────────────────────────┼─────────────────────────────┼─────────────────┤\n",
              "│ max_pooling2d_1 (\u001b[38;5;33mMaxPooling2D\u001b[0m)       │ (\u001b[38;5;45mNone\u001b[0m, \u001b[38;5;34m8\u001b[0m, \u001b[38;5;34m8\u001b[0m, \u001b[38;5;34m64\u001b[0m)            │               \u001b[38;5;34m0\u001b[0m │\n",
              "├──────────────────────────────────────┼─────────────────────────────┼─────────────────┤\n",
              "│ conv2d_4 (\u001b[38;5;33mConv2D\u001b[0m)                    │ (\u001b[38;5;45mNone\u001b[0m, \u001b[38;5;34m8\u001b[0m, \u001b[38;5;34m8\u001b[0m, \u001b[38;5;34m128\u001b[0m)           │          \u001b[38;5;34m73,856\u001b[0m │\n",
              "├──────────────────────────────────────┼─────────────────────────────┼─────────────────┤\n",
              "│ conv2d_5 (\u001b[38;5;33mConv2D\u001b[0m)                    │ (\u001b[38;5;45mNone\u001b[0m, \u001b[38;5;34m8\u001b[0m, \u001b[38;5;34m8\u001b[0m, \u001b[38;5;34m128\u001b[0m)           │         \u001b[38;5;34m147,584\u001b[0m │\n",
              "├──────────────────────────────────────┼─────────────────────────────┼─────────────────┤\n",
              "│ batch_normalization_2                │ (\u001b[38;5;45mNone\u001b[0m, \u001b[38;5;34m8\u001b[0m, \u001b[38;5;34m8\u001b[0m, \u001b[38;5;34m128\u001b[0m)           │             \u001b[38;5;34m512\u001b[0m │\n",
              "│ (\u001b[38;5;33mBatchNormalization\u001b[0m)                 │                             │                 │\n",
              "├──────────────────────────────────────┼─────────────────────────────┼─────────────────┤\n",
              "│ max_pooling2d_2 (\u001b[38;5;33mMaxPooling2D\u001b[0m)       │ (\u001b[38;5;45mNone\u001b[0m, \u001b[38;5;34m4\u001b[0m, \u001b[38;5;34m4\u001b[0m, \u001b[38;5;34m128\u001b[0m)           │               \u001b[38;5;34m0\u001b[0m │\n",
              "├──────────────────────────────────────┼─────────────────────────────┼─────────────────┤\n",
              "│ conv2d_6 (\u001b[38;5;33mConv2D\u001b[0m)                    │ (\u001b[38;5;45mNone\u001b[0m, \u001b[38;5;34m4\u001b[0m, \u001b[38;5;34m4\u001b[0m, \u001b[38;5;34m256\u001b[0m)           │         \u001b[38;5;34m295,168\u001b[0m │\n",
              "├──────────────────────────────────────┼─────────────────────────────┼─────────────────┤\n",
              "│ conv2d_7 (\u001b[38;5;33mConv2D\u001b[0m)                    │ (\u001b[38;5;45mNone\u001b[0m, \u001b[38;5;34m4\u001b[0m, \u001b[38;5;34m4\u001b[0m, \u001b[38;5;34m256\u001b[0m)           │         \u001b[38;5;34m590,080\u001b[0m │\n",
              "├──────────────────────────────────────┼─────────────────────────────┼─────────────────┤\n",
              "│ batch_normalization_3                │ (\u001b[38;5;45mNone\u001b[0m, \u001b[38;5;34m4\u001b[0m, \u001b[38;5;34m4\u001b[0m, \u001b[38;5;34m256\u001b[0m)           │           \u001b[38;5;34m1,024\u001b[0m │\n",
              "│ (\u001b[38;5;33mBatchNormalization\u001b[0m)                 │                             │                 │\n",
              "├──────────────────────────────────────┼─────────────────────────────┼─────────────────┤\n",
              "│ max_pooling2d_3 (\u001b[38;5;33mMaxPooling2D\u001b[0m)       │ (\u001b[38;5;45mNone\u001b[0m, \u001b[38;5;34m2\u001b[0m, \u001b[38;5;34m2\u001b[0m, \u001b[38;5;34m256\u001b[0m)           │               \u001b[38;5;34m0\u001b[0m │\n",
              "├──────────────────────────────────────┼─────────────────────────────┼─────────────────┤\n",
              "│ flatten (\u001b[38;5;33mFlatten\u001b[0m)                    │ (\u001b[38;5;45mNone\u001b[0m, \u001b[38;5;34m1024\u001b[0m)                │               \u001b[38;5;34m0\u001b[0m │\n",
              "├──────────────────────────────────────┼─────────────────────────────┼─────────────────┤\n",
              "│ dropout (\u001b[38;5;33mDropout\u001b[0m)                    │ (\u001b[38;5;45mNone\u001b[0m, \u001b[38;5;34m1024\u001b[0m)                │               \u001b[38;5;34m0\u001b[0m │\n",
              "├──────────────────────────────────────┼─────────────────────────────┼─────────────────┤\n",
              "│ dense (\u001b[38;5;33mDense\u001b[0m)                        │ (\u001b[38;5;45mNone\u001b[0m, \u001b[38;5;34m256\u001b[0m)                 │         \u001b[38;5;34m262,400\u001b[0m │\n",
              "├──────────────────────────────────────┼─────────────────────────────┼─────────────────┤\n",
              "│ batch_normalization_4                │ (\u001b[38;5;45mNone\u001b[0m, \u001b[38;5;34m256\u001b[0m)                 │           \u001b[38;5;34m1,024\u001b[0m │\n",
              "│ (\u001b[38;5;33mBatchNormalization\u001b[0m)                 │                             │                 │\n",
              "├──────────────────────────────────────┼─────────────────────────────┼─────────────────┤\n",
              "│ dense_1 (\u001b[38;5;33mDense\u001b[0m)                      │ (\u001b[38;5;45mNone\u001b[0m, \u001b[38;5;34m128\u001b[0m)                 │          \u001b[38;5;34m32,896\u001b[0m │\n",
              "├──────────────────────────────────────┼─────────────────────────────┼─────────────────┤\n",
              "│ batch_normalization_5                │ (\u001b[38;5;45mNone\u001b[0m, \u001b[38;5;34m128\u001b[0m)                 │             \u001b[38;5;34m512\u001b[0m │\n",
              "│ (\u001b[38;5;33mBatchNormalization\u001b[0m)                 │                             │                 │\n",
              "├──────────────────────────────────────┼─────────────────────────────┼─────────────────┤\n",
              "│ dense_2 (\u001b[38;5;33mDense\u001b[0m)                      │ (\u001b[38;5;45mNone\u001b[0m, \u001b[38;5;34m64\u001b[0m)                  │           \u001b[38;5;34m8,256\u001b[0m │\n",
              "├──────────────────────────────────────┼─────────────────────────────┼─────────────────┤\n",
              "│ batch_normalization_6                │ (\u001b[38;5;45mNone\u001b[0m, \u001b[38;5;34m64\u001b[0m)                  │             \u001b[38;5;34m256\u001b[0m │\n",
              "│ (\u001b[38;5;33mBatchNormalization\u001b[0m)                 │                             │                 │\n",
              "├──────────────────────────────────────┼─────────────────────────────┼─────────────────┤\n",
              "│ dropout_1 (\u001b[38;5;33mDropout\u001b[0m)                  │ (\u001b[38;5;45mNone\u001b[0m, \u001b[38;5;34m64\u001b[0m)                  │               \u001b[38;5;34m0\u001b[0m │\n",
              "├──────────────────────────────────────┼─────────────────────────────┼─────────────────┤\n",
              "│ dense_3 (\u001b[38;5;33mDense\u001b[0m)                      │ (\u001b[38;5;45mNone\u001b[0m, \u001b[38;5;34m32\u001b[0m)                  │           \u001b[38;5;34m2,080\u001b[0m │\n",
              "├──────────────────────────────────────┼─────────────────────────────┼─────────────────┤\n",
              "│ batch_normalization_7                │ (\u001b[38;5;45mNone\u001b[0m, \u001b[38;5;34m32\u001b[0m)                  │             \u001b[38;5;34m128\u001b[0m │\n",
              "│ (\u001b[38;5;33mBatchNormalization\u001b[0m)                 │                             │                 │\n",
              "├──────────────────────────────────────┼─────────────────────────────┼─────────────────┤\n",
              "│ dense_4 (\u001b[38;5;33mDense\u001b[0m)                      │ (\u001b[38;5;45mNone\u001b[0m, \u001b[38;5;34m8\u001b[0m)                   │             \u001b[38;5;34m264\u001b[0m │\n",
              "└──────────────────────────────────────┴─────────────────────────────┴─────────────────┘\n"
            ],
            "text/html": [
              "<pre style=\"white-space:pre;overflow-x:auto;line-height:normal;font-family:Menlo,'DejaVu Sans Mono',consolas,'Courier New',monospace\">┏━━━━━━━━━━━━━━━━━━━━━━━━━━━━━━━━━━━━━━┳━━━━━━━━━━━━━━━━━━━━━━━━━━━━━┳━━━━━━━━━━━━━━━━━┓\n",
              "┃<span style=\"font-weight: bold\"> Layer (type)                         </span>┃<span style=\"font-weight: bold\"> Output Shape                </span>┃<span style=\"font-weight: bold\">         Param # </span>┃\n",
              "┡━━━━━━━━━━━━━━━━━━━━━━━━━━━━━━━━━━━━━━╇━━━━━━━━━━━━━━━━━━━━━━━━━━━━━╇━━━━━━━━━━━━━━━━━┩\n",
              "│ conv2d (<span style=\"color: #0087ff; text-decoration-color: #0087ff\">Conv2D</span>)                      │ (<span style=\"color: #00d7ff; text-decoration-color: #00d7ff\">None</span>, <span style=\"color: #00af00; text-decoration-color: #00af00\">32</span>, <span style=\"color: #00af00; text-decoration-color: #00af00\">32</span>, <span style=\"color: #00af00; text-decoration-color: #00af00\">32</span>)          │             <span style=\"color: #00af00; text-decoration-color: #00af00\">896</span> │\n",
              "├──────────────────────────────────────┼─────────────────────────────┼─────────────────┤\n",
              "│ conv2d_1 (<span style=\"color: #0087ff; text-decoration-color: #0087ff\">Conv2D</span>)                    │ (<span style=\"color: #00d7ff; text-decoration-color: #00d7ff\">None</span>, <span style=\"color: #00af00; text-decoration-color: #00af00\">32</span>, <span style=\"color: #00af00; text-decoration-color: #00af00\">32</span>, <span style=\"color: #00af00; text-decoration-color: #00af00\">32</span>)          │           <span style=\"color: #00af00; text-decoration-color: #00af00\">9,248</span> │\n",
              "├──────────────────────────────────────┼─────────────────────────────┼─────────────────┤\n",
              "│ batch_normalization                  │ (<span style=\"color: #00d7ff; text-decoration-color: #00d7ff\">None</span>, <span style=\"color: #00af00; text-decoration-color: #00af00\">32</span>, <span style=\"color: #00af00; text-decoration-color: #00af00\">32</span>, <span style=\"color: #00af00; text-decoration-color: #00af00\">32</span>)          │             <span style=\"color: #00af00; text-decoration-color: #00af00\">128</span> │\n",
              "│ (<span style=\"color: #0087ff; text-decoration-color: #0087ff\">BatchNormalization</span>)                 │                             │                 │\n",
              "├──────────────────────────────────────┼─────────────────────────────┼─────────────────┤\n",
              "│ max_pooling2d (<span style=\"color: #0087ff; text-decoration-color: #0087ff\">MaxPooling2D</span>)         │ (<span style=\"color: #00d7ff; text-decoration-color: #00d7ff\">None</span>, <span style=\"color: #00af00; text-decoration-color: #00af00\">16</span>, <span style=\"color: #00af00; text-decoration-color: #00af00\">16</span>, <span style=\"color: #00af00; text-decoration-color: #00af00\">32</span>)          │               <span style=\"color: #00af00; text-decoration-color: #00af00\">0</span> │\n",
              "├──────────────────────────────────────┼─────────────────────────────┼─────────────────┤\n",
              "│ conv2d_2 (<span style=\"color: #0087ff; text-decoration-color: #0087ff\">Conv2D</span>)                    │ (<span style=\"color: #00d7ff; text-decoration-color: #00d7ff\">None</span>, <span style=\"color: #00af00; text-decoration-color: #00af00\">16</span>, <span style=\"color: #00af00; text-decoration-color: #00af00\">16</span>, <span style=\"color: #00af00; text-decoration-color: #00af00\">64</span>)          │          <span style=\"color: #00af00; text-decoration-color: #00af00\">18,496</span> │\n",
              "├──────────────────────────────────────┼─────────────────────────────┼─────────────────┤\n",
              "│ conv2d_3 (<span style=\"color: #0087ff; text-decoration-color: #0087ff\">Conv2D</span>)                    │ (<span style=\"color: #00d7ff; text-decoration-color: #00d7ff\">None</span>, <span style=\"color: #00af00; text-decoration-color: #00af00\">16</span>, <span style=\"color: #00af00; text-decoration-color: #00af00\">16</span>, <span style=\"color: #00af00; text-decoration-color: #00af00\">64</span>)          │          <span style=\"color: #00af00; text-decoration-color: #00af00\">36,928</span> │\n",
              "├──────────────────────────────────────┼─────────────────────────────┼─────────────────┤\n",
              "│ batch_normalization_1                │ (<span style=\"color: #00d7ff; text-decoration-color: #00d7ff\">None</span>, <span style=\"color: #00af00; text-decoration-color: #00af00\">16</span>, <span style=\"color: #00af00; text-decoration-color: #00af00\">16</span>, <span style=\"color: #00af00; text-decoration-color: #00af00\">64</span>)          │             <span style=\"color: #00af00; text-decoration-color: #00af00\">256</span> │\n",
              "│ (<span style=\"color: #0087ff; text-decoration-color: #0087ff\">BatchNormalization</span>)                 │                             │                 │\n",
              "├──────────────────────────────────────┼─────────────────────────────┼─────────────────┤\n",
              "│ max_pooling2d_1 (<span style=\"color: #0087ff; text-decoration-color: #0087ff\">MaxPooling2D</span>)       │ (<span style=\"color: #00d7ff; text-decoration-color: #00d7ff\">None</span>, <span style=\"color: #00af00; text-decoration-color: #00af00\">8</span>, <span style=\"color: #00af00; text-decoration-color: #00af00\">8</span>, <span style=\"color: #00af00; text-decoration-color: #00af00\">64</span>)            │               <span style=\"color: #00af00; text-decoration-color: #00af00\">0</span> │\n",
              "├──────────────────────────────────────┼─────────────────────────────┼─────────────────┤\n",
              "│ conv2d_4 (<span style=\"color: #0087ff; text-decoration-color: #0087ff\">Conv2D</span>)                    │ (<span style=\"color: #00d7ff; text-decoration-color: #00d7ff\">None</span>, <span style=\"color: #00af00; text-decoration-color: #00af00\">8</span>, <span style=\"color: #00af00; text-decoration-color: #00af00\">8</span>, <span style=\"color: #00af00; text-decoration-color: #00af00\">128</span>)           │          <span style=\"color: #00af00; text-decoration-color: #00af00\">73,856</span> │\n",
              "├──────────────────────────────────────┼─────────────────────────────┼─────────────────┤\n",
              "│ conv2d_5 (<span style=\"color: #0087ff; text-decoration-color: #0087ff\">Conv2D</span>)                    │ (<span style=\"color: #00d7ff; text-decoration-color: #00d7ff\">None</span>, <span style=\"color: #00af00; text-decoration-color: #00af00\">8</span>, <span style=\"color: #00af00; text-decoration-color: #00af00\">8</span>, <span style=\"color: #00af00; text-decoration-color: #00af00\">128</span>)           │         <span style=\"color: #00af00; text-decoration-color: #00af00\">147,584</span> │\n",
              "├──────────────────────────────────────┼─────────────────────────────┼─────────────────┤\n",
              "│ batch_normalization_2                │ (<span style=\"color: #00d7ff; text-decoration-color: #00d7ff\">None</span>, <span style=\"color: #00af00; text-decoration-color: #00af00\">8</span>, <span style=\"color: #00af00; text-decoration-color: #00af00\">8</span>, <span style=\"color: #00af00; text-decoration-color: #00af00\">128</span>)           │             <span style=\"color: #00af00; text-decoration-color: #00af00\">512</span> │\n",
              "│ (<span style=\"color: #0087ff; text-decoration-color: #0087ff\">BatchNormalization</span>)                 │                             │                 │\n",
              "├──────────────────────────────────────┼─────────────────────────────┼─────────────────┤\n",
              "│ max_pooling2d_2 (<span style=\"color: #0087ff; text-decoration-color: #0087ff\">MaxPooling2D</span>)       │ (<span style=\"color: #00d7ff; text-decoration-color: #00d7ff\">None</span>, <span style=\"color: #00af00; text-decoration-color: #00af00\">4</span>, <span style=\"color: #00af00; text-decoration-color: #00af00\">4</span>, <span style=\"color: #00af00; text-decoration-color: #00af00\">128</span>)           │               <span style=\"color: #00af00; text-decoration-color: #00af00\">0</span> │\n",
              "├──────────────────────────────────────┼─────────────────────────────┼─────────────────┤\n",
              "│ conv2d_6 (<span style=\"color: #0087ff; text-decoration-color: #0087ff\">Conv2D</span>)                    │ (<span style=\"color: #00d7ff; text-decoration-color: #00d7ff\">None</span>, <span style=\"color: #00af00; text-decoration-color: #00af00\">4</span>, <span style=\"color: #00af00; text-decoration-color: #00af00\">4</span>, <span style=\"color: #00af00; text-decoration-color: #00af00\">256</span>)           │         <span style=\"color: #00af00; text-decoration-color: #00af00\">295,168</span> │\n",
              "├──────────────────────────────────────┼─────────────────────────────┼─────────────────┤\n",
              "│ conv2d_7 (<span style=\"color: #0087ff; text-decoration-color: #0087ff\">Conv2D</span>)                    │ (<span style=\"color: #00d7ff; text-decoration-color: #00d7ff\">None</span>, <span style=\"color: #00af00; text-decoration-color: #00af00\">4</span>, <span style=\"color: #00af00; text-decoration-color: #00af00\">4</span>, <span style=\"color: #00af00; text-decoration-color: #00af00\">256</span>)           │         <span style=\"color: #00af00; text-decoration-color: #00af00\">590,080</span> │\n",
              "├──────────────────────────────────────┼─────────────────────────────┼─────────────────┤\n",
              "│ batch_normalization_3                │ (<span style=\"color: #00d7ff; text-decoration-color: #00d7ff\">None</span>, <span style=\"color: #00af00; text-decoration-color: #00af00\">4</span>, <span style=\"color: #00af00; text-decoration-color: #00af00\">4</span>, <span style=\"color: #00af00; text-decoration-color: #00af00\">256</span>)           │           <span style=\"color: #00af00; text-decoration-color: #00af00\">1,024</span> │\n",
              "│ (<span style=\"color: #0087ff; text-decoration-color: #0087ff\">BatchNormalization</span>)                 │                             │                 │\n",
              "├──────────────────────────────────────┼─────────────────────────────┼─────────────────┤\n",
              "│ max_pooling2d_3 (<span style=\"color: #0087ff; text-decoration-color: #0087ff\">MaxPooling2D</span>)       │ (<span style=\"color: #00d7ff; text-decoration-color: #00d7ff\">None</span>, <span style=\"color: #00af00; text-decoration-color: #00af00\">2</span>, <span style=\"color: #00af00; text-decoration-color: #00af00\">2</span>, <span style=\"color: #00af00; text-decoration-color: #00af00\">256</span>)           │               <span style=\"color: #00af00; text-decoration-color: #00af00\">0</span> │\n",
              "├──────────────────────────────────────┼─────────────────────────────┼─────────────────┤\n",
              "│ flatten (<span style=\"color: #0087ff; text-decoration-color: #0087ff\">Flatten</span>)                    │ (<span style=\"color: #00d7ff; text-decoration-color: #00d7ff\">None</span>, <span style=\"color: #00af00; text-decoration-color: #00af00\">1024</span>)                │               <span style=\"color: #00af00; text-decoration-color: #00af00\">0</span> │\n",
              "├──────────────────────────────────────┼─────────────────────────────┼─────────────────┤\n",
              "│ dropout (<span style=\"color: #0087ff; text-decoration-color: #0087ff\">Dropout</span>)                    │ (<span style=\"color: #00d7ff; text-decoration-color: #00d7ff\">None</span>, <span style=\"color: #00af00; text-decoration-color: #00af00\">1024</span>)                │               <span style=\"color: #00af00; text-decoration-color: #00af00\">0</span> │\n",
              "├──────────────────────────────────────┼─────────────────────────────┼─────────────────┤\n",
              "│ dense (<span style=\"color: #0087ff; text-decoration-color: #0087ff\">Dense</span>)                        │ (<span style=\"color: #00d7ff; text-decoration-color: #00d7ff\">None</span>, <span style=\"color: #00af00; text-decoration-color: #00af00\">256</span>)                 │         <span style=\"color: #00af00; text-decoration-color: #00af00\">262,400</span> │\n",
              "├──────────────────────────────────────┼─────────────────────────────┼─────────────────┤\n",
              "│ batch_normalization_4                │ (<span style=\"color: #00d7ff; text-decoration-color: #00d7ff\">None</span>, <span style=\"color: #00af00; text-decoration-color: #00af00\">256</span>)                 │           <span style=\"color: #00af00; text-decoration-color: #00af00\">1,024</span> │\n",
              "│ (<span style=\"color: #0087ff; text-decoration-color: #0087ff\">BatchNormalization</span>)                 │                             │                 │\n",
              "├──────────────────────────────────────┼─────────────────────────────┼─────────────────┤\n",
              "│ dense_1 (<span style=\"color: #0087ff; text-decoration-color: #0087ff\">Dense</span>)                      │ (<span style=\"color: #00d7ff; text-decoration-color: #00d7ff\">None</span>, <span style=\"color: #00af00; text-decoration-color: #00af00\">128</span>)                 │          <span style=\"color: #00af00; text-decoration-color: #00af00\">32,896</span> │\n",
              "├──────────────────────────────────────┼─────────────────────────────┼─────────────────┤\n",
              "│ batch_normalization_5                │ (<span style=\"color: #00d7ff; text-decoration-color: #00d7ff\">None</span>, <span style=\"color: #00af00; text-decoration-color: #00af00\">128</span>)                 │             <span style=\"color: #00af00; text-decoration-color: #00af00\">512</span> │\n",
              "│ (<span style=\"color: #0087ff; text-decoration-color: #0087ff\">BatchNormalization</span>)                 │                             │                 │\n",
              "├──────────────────────────────────────┼─────────────────────────────┼─────────────────┤\n",
              "│ dense_2 (<span style=\"color: #0087ff; text-decoration-color: #0087ff\">Dense</span>)                      │ (<span style=\"color: #00d7ff; text-decoration-color: #00d7ff\">None</span>, <span style=\"color: #00af00; text-decoration-color: #00af00\">64</span>)                  │           <span style=\"color: #00af00; text-decoration-color: #00af00\">8,256</span> │\n",
              "├──────────────────────────────────────┼─────────────────────────────┼─────────────────┤\n",
              "│ batch_normalization_6                │ (<span style=\"color: #00d7ff; text-decoration-color: #00d7ff\">None</span>, <span style=\"color: #00af00; text-decoration-color: #00af00\">64</span>)                  │             <span style=\"color: #00af00; text-decoration-color: #00af00\">256</span> │\n",
              "│ (<span style=\"color: #0087ff; text-decoration-color: #0087ff\">BatchNormalization</span>)                 │                             │                 │\n",
              "├──────────────────────────────────────┼─────────────────────────────┼─────────────────┤\n",
              "│ dropout_1 (<span style=\"color: #0087ff; text-decoration-color: #0087ff\">Dropout</span>)                  │ (<span style=\"color: #00d7ff; text-decoration-color: #00d7ff\">None</span>, <span style=\"color: #00af00; text-decoration-color: #00af00\">64</span>)                  │               <span style=\"color: #00af00; text-decoration-color: #00af00\">0</span> │\n",
              "├──────────────────────────────────────┼─────────────────────────────┼─────────────────┤\n",
              "│ dense_3 (<span style=\"color: #0087ff; text-decoration-color: #0087ff\">Dense</span>)                      │ (<span style=\"color: #00d7ff; text-decoration-color: #00d7ff\">None</span>, <span style=\"color: #00af00; text-decoration-color: #00af00\">32</span>)                  │           <span style=\"color: #00af00; text-decoration-color: #00af00\">2,080</span> │\n",
              "├──────────────────────────────────────┼─────────────────────────────┼─────────────────┤\n",
              "│ batch_normalization_7                │ (<span style=\"color: #00d7ff; text-decoration-color: #00d7ff\">None</span>, <span style=\"color: #00af00; text-decoration-color: #00af00\">32</span>)                  │             <span style=\"color: #00af00; text-decoration-color: #00af00\">128</span> │\n",
              "│ (<span style=\"color: #0087ff; text-decoration-color: #0087ff\">BatchNormalization</span>)                 │                             │                 │\n",
              "├──────────────────────────────────────┼─────────────────────────────┼─────────────────┤\n",
              "│ dense_4 (<span style=\"color: #0087ff; text-decoration-color: #0087ff\">Dense</span>)                      │ (<span style=\"color: #00d7ff; text-decoration-color: #00d7ff\">None</span>, <span style=\"color: #00af00; text-decoration-color: #00af00\">8</span>)                   │             <span style=\"color: #00af00; text-decoration-color: #00af00\">264</span> │\n",
              "└──────────────────────────────────────┴─────────────────────────────┴─────────────────┘\n",
              "</pre>\n"
            ]
          },
          "metadata": {}
        },
        {
          "output_type": "display_data",
          "data": {
            "text/plain": [
              "\u001b[1m Total params: \u001b[0m\u001b[38;5;34m1,481,992\u001b[0m (5.65 MB)\n"
            ],
            "text/html": [
              "<pre style=\"white-space:pre;overflow-x:auto;line-height:normal;font-family:Menlo,'DejaVu Sans Mono',consolas,'Courier New',monospace\"><span style=\"font-weight: bold\"> Total params: </span><span style=\"color: #00af00; text-decoration-color: #00af00\">1,481,992</span> (5.65 MB)\n",
              "</pre>\n"
            ]
          },
          "metadata": {}
        },
        {
          "output_type": "display_data",
          "data": {
            "text/plain": [
              "\u001b[1m Trainable params: \u001b[0m\u001b[38;5;34m1,480,072\u001b[0m (5.65 MB)\n"
            ],
            "text/html": [
              "<pre style=\"white-space:pre;overflow-x:auto;line-height:normal;font-family:Menlo,'DejaVu Sans Mono',consolas,'Courier New',monospace\"><span style=\"font-weight: bold\"> Trainable params: </span><span style=\"color: #00af00; text-decoration-color: #00af00\">1,480,072</span> (5.65 MB)\n",
              "</pre>\n"
            ]
          },
          "metadata": {}
        },
        {
          "output_type": "display_data",
          "data": {
            "text/plain": [
              "\u001b[1m Non-trainable params: \u001b[0m\u001b[38;5;34m1,920\u001b[0m (7.50 KB)\n"
            ],
            "text/html": [
              "<pre style=\"white-space:pre;overflow-x:auto;line-height:normal;font-family:Menlo,'DejaVu Sans Mono',consolas,'Courier New',monospace\"><span style=\"font-weight: bold\"> Non-trainable params: </span><span style=\"color: #00af00; text-decoration-color: #00af00\">1,920</span> (7.50 KB)\n",
              "</pre>\n"
            ]
          },
          "metadata": {}
        }
      ]
    },
    {
      "cell_type": "code",
      "source": [
        "# compile our model\n",
        "\n",
        "model.compile(\n",
        "    optimizer=Adamax(learning_rate=LEARNING_RATE),\n",
        "    loss='categorical_crossentropy',\n",
        "    metrics=['accuracy', tf.keras.metrics.Precision(), tf.keras.metrics.Recall(), tf.keras.metrics.AUC()]\n",
        "    )"
      ],
      "metadata": {
        "id": "Y4nBGqM8IkF9"
      },
      "execution_count": null,
      "outputs": []
    },
    {
      "cell_type": "code",
      "source": [
        "# Early Stopping & Learning Rate Reduction\n",
        "early_stopping = EarlyStopping(monitor=\"val_acc\", patience=10, mode=\"max\", restore_best_weights=True)\n",
        "lr_scheduler = ReduceLROnPlateau(monitor='val_loss', factor=0.5, patience=5, mode='min', min_lr=1e-6)"
      ],
      "metadata": {
        "id": "RJf0xr6RImeC"
      },
      "execution_count": null,
      "outputs": []
    },
    {
      "cell_type": "code",
      "source": [
        "# Training the model with updated configuration\n",
        "history = model.fit(\n",
        "    X_train, y_train,\n",
        "    validation_data=(X_val, y_val),\n",
        "    epochs=EPOCHS,\n",
        "    batch_size=BATCH_SIZE,\n",
        "    callbacks=[early_stopping, lr_scheduler]\n",
        ")"
      ],
      "metadata": {
        "colab": {
          "base_uri": "https://localhost:8080/"
        },
        "id": "q3gg54lkIobC",
        "outputId": "94288807-61a6-40d5-f78a-7212303630c4"
      },
      "execution_count": null,
      "outputs": [
        {
          "output_type": "stream",
          "name": "stdout",
          "text": [
            "Epoch 1/100\n",
            "\u001b[1m317/317\u001b[0m \u001b[32m━━━━━━━━━━━━━━━━━━━━\u001b[0m\u001b[37m\u001b[0m \u001b[1m25s\u001b[0m 36ms/step - accuracy: 0.3494 - auc: 0.6801 - loss: 2.0661 - precision: 0.4974 - recall: 0.1393 - val_accuracy: 0.1299 - val_auc: 0.5223 - val_loss: 2.3741 - val_precision: 0.0000e+00 - val_recall: 0.0000e+00 - learning_rate: 0.0010\n",
            "Epoch 2/100\n",
            "\u001b[1m 24/317\u001b[0m \u001b[32m━\u001b[0m\u001b[37m━━━━━━━━━━━━━━━━━━━\u001b[0m \u001b[1m1s\u001b[0m 4ms/step - accuracy: 0.5426 - auc: 0.8455 - loss: 1.4268 - precision: 0.7209 - recall: 0.3707"
          ]
        },
        {
          "output_type": "stream",
          "name": "stderr",
          "text": [
            "/usr/local/lib/python3.11/dist-packages/keras/src/callbacks/early_stopping.py:155: UserWarning: Early stopping conditioned on metric `val_acc` which is not available. Available metrics are: accuracy,auc,loss,precision,recall,val_accuracy,val_auc,val_loss,val_precision,val_recall\n",
            "  current = self.get_monitor_value(logs)\n"
          ]
        },
        {
          "output_type": "stream",
          "name": "stdout",
          "text": [
            "\u001b[1m317/317\u001b[0m \u001b[32m━━━━━━━━━━━━━━━━━━━━\u001b[0m\u001b[37m\u001b[0m \u001b[1m2s\u001b[0m 5ms/step - accuracy: 0.5498 - auc: 0.8579 - loss: 1.3725 - precision: 0.7207 - recall: 0.3803 - val_accuracy: 0.4681 - val_auc: 0.8447 - val_loss: 1.4763 - val_precision: 0.8592 - val_recall: 0.1083 - learning_rate: 0.0010\n",
            "Epoch 3/100\n",
            "\u001b[1m317/317\u001b[0m \u001b[32m━━━━━━━━━━━━━━━━━━━━\u001b[0m\u001b[37m\u001b[0m \u001b[1m2s\u001b[0m 5ms/step - accuracy: 0.5657 - auc: 0.8889 - loss: 1.2323 - precision: 0.7347 - recall: 0.4206 - val_accuracy: 0.5715 - val_auc: 0.8857 - val_loss: 1.2661 - val_precision: 0.6649 - val_recall: 0.4616 - learning_rate: 0.0010\n",
            "Epoch 4/100\n",
            "\u001b[1m317/317\u001b[0m \u001b[32m━━━━━━━━━━━━━━━━━━━━\u001b[0m\u001b[37m\u001b[0m \u001b[1m2s\u001b[0m 5ms/step - accuracy: 0.5890 - auc: 0.9024 - loss: 1.1590 - precision: 0.7332 - recall: 0.4519 - val_accuracy: 0.5634 - val_auc: 0.8978 - val_loss: 1.2441 - val_precision: 0.6312 - val_recall: 0.5005 - learning_rate: 0.0010\n",
            "Epoch 5/100\n",
            "\u001b[1m317/317\u001b[0m \u001b[32m━━━━━━━━━━━━━━━━━━━━\u001b[0m\u001b[37m\u001b[0m \u001b[1m2s\u001b[0m 5ms/step - accuracy: 0.5956 - auc: 0.9074 - loss: 1.1291 - precision: 0.7463 - recall: 0.4517 - val_accuracy: 0.5463 - val_auc: 0.8789 - val_loss: 1.4319 - val_precision: 0.5917 - val_recall: 0.5096 - learning_rate: 0.0010\n",
            "Epoch 6/100\n",
            "\u001b[1m317/317\u001b[0m \u001b[32m━━━━━━━━━━━━━━━━━━━━\u001b[0m\u001b[37m\u001b[0m \u001b[1m2s\u001b[0m 5ms/step - accuracy: 0.6065 - auc: 0.9103 - loss: 1.1103 - precision: 0.7442 - recall: 0.4711 - val_accuracy: 0.5433 - val_auc: 0.8936 - val_loss: 1.3066 - val_precision: 0.5958 - val_recall: 0.5092 - learning_rate: 0.0010\n",
            "Epoch 7/100\n",
            "\u001b[1m317/317\u001b[0m \u001b[32m━━━━━━━━━━━━━━━━━━━━\u001b[0m\u001b[37m\u001b[0m \u001b[1m2s\u001b[0m 5ms/step - accuracy: 0.6118 - auc: 0.9145 - loss: 1.0852 - precision: 0.7446 - recall: 0.4861 - val_accuracy: 0.5250 - val_auc: 0.7526 - val_loss: 4.1467 - val_precision: 0.5353 - val_recall: 0.5074 - learning_rate: 0.0010\n",
            "Epoch 8/100\n",
            "\u001b[1m317/317\u001b[0m \u001b[32m━━━━━━━━━━━━━━━━━━━━\u001b[0m\u001b[37m\u001b[0m \u001b[1m2s\u001b[0m 5ms/step - accuracy: 0.6270 - auc: 0.9190 - loss: 1.0551 - precision: 0.7572 - recall: 0.4952 - val_accuracy: 0.5133 - val_auc: 0.7487 - val_loss: 3.3605 - val_precision: 0.5143 - val_recall: 0.5112 - learning_rate: 0.0010\n",
            "Epoch 9/100\n",
            "\u001b[1m317/317\u001b[0m \u001b[32m━━━━━━━━━━━━━━━━━━━━\u001b[0m\u001b[37m\u001b[0m \u001b[1m2s\u001b[0m 5ms/step - accuracy: 0.6353 - auc: 0.9220 - loss: 1.0350 - precision: 0.7570 - recall: 0.5127 - val_accuracy: 0.5305 - val_auc: 0.8555 - val_loss: 1.7856 - val_precision: 0.5495 - val_recall: 0.5216 - learning_rate: 0.0010\n",
            "Epoch 10/100\n",
            "\u001b[1m317/317\u001b[0m \u001b[32m━━━━━━━━━━━━━━━━━━━━\u001b[0m\u001b[37m\u001b[0m \u001b[1m2s\u001b[0m 5ms/step - accuracy: 0.6513 - auc: 0.9288 - loss: 0.9896 - precision: 0.7769 - recall: 0.5306 - val_accuracy: 0.6102 - val_auc: 0.9121 - val_loss: 1.1022 - val_precision: 0.7165 - val_recall: 0.5117 - learning_rate: 5.0000e-04\n",
            "Epoch 11/100\n",
            "\u001b[1m317/317\u001b[0m \u001b[32m━━━━━━━━━━━━━━━━━━━━\u001b[0m\u001b[37m\u001b[0m \u001b[1m2s\u001b[0m 5ms/step - accuracy: 0.6649 - auc: 0.9344 - loss: 0.9516 - precision: 0.7787 - recall: 0.5458 - val_accuracy: 0.5745 - val_auc: 0.8974 - val_loss: 1.2123 - val_precision: 0.6661 - val_recall: 0.4879 - learning_rate: 5.0000e-04\n",
            "Epoch 12/100\n",
            "\u001b[1m317/317\u001b[0m \u001b[32m━━━━━━━━━━━━━━━━━━━━\u001b[0m\u001b[37m\u001b[0m \u001b[1m2s\u001b[0m 5ms/step - accuracy: 0.6831 - auc: 0.9411 - loss: 0.9032 - precision: 0.7837 - recall: 0.5713 - val_accuracy: 0.5581 - val_auc: 0.8752 - val_loss: 1.4479 - val_precision: 0.6205 - val_recall: 0.5056 - learning_rate: 5.0000e-04\n",
            "Epoch 13/100\n",
            "\u001b[1m317/317\u001b[0m \u001b[32m━━━━━━━━━━━━━━━━━━━━\u001b[0m\u001b[37m\u001b[0m \u001b[1m2s\u001b[0m 5ms/step - accuracy: 0.6928 - auc: 0.9442 - loss: 0.8786 - precision: 0.7926 - recall: 0.5859 - val_accuracy: 0.5741 - val_auc: 0.8940 - val_loss: 1.2472 - val_precision: 0.6192 - val_recall: 0.5110 - learning_rate: 5.0000e-04\n",
            "Epoch 14/100\n",
            "\u001b[1m317/317\u001b[0m \u001b[32m━━━━━━━━━━━━━━━━━━━━\u001b[0m\u001b[37m\u001b[0m \u001b[1m2s\u001b[0m 5ms/step - accuracy: 0.7047 - auc: 0.9474 - loss: 0.8529 - precision: 0.8028 - recall: 0.6011 - val_accuracy: 0.5224 - val_auc: 0.8081 - val_loss: 2.4416 - val_precision: 0.5334 - val_recall: 0.5135 - learning_rate: 5.0000e-04\n",
            "Epoch 15/100\n",
            "\u001b[1m317/317\u001b[0m \u001b[32m━━━━━━━━━━━━━━━━━━━━\u001b[0m\u001b[37m\u001b[0m \u001b[1m2s\u001b[0m 5ms/step - accuracy: 0.7190 - auc: 0.9536 - loss: 0.7996 - precision: 0.8091 - recall: 0.6320 - val_accuracy: 0.5429 - val_auc: 0.8785 - val_loss: 1.3377 - val_precision: 0.6076 - val_recall: 0.4604 - learning_rate: 5.0000e-04\n",
            "Epoch 16/100\n",
            "\u001b[1m317/317\u001b[0m \u001b[32m━━━━━━━━━━━━━━━━━━━━\u001b[0m\u001b[37m\u001b[0m \u001b[1m2s\u001b[0m 5ms/step - accuracy: 0.7481 - auc: 0.9608 - loss: 0.7361 - precision: 0.8338 - recall: 0.6597 - val_accuracy: 0.6203 - val_auc: 0.9117 - val_loss: 1.1862 - val_precision: 0.6819 - val_recall: 0.5700 - learning_rate: 2.5000e-04\n",
            "Epoch 17/100\n",
            "\u001b[1m317/317\u001b[0m \u001b[32m━━━━━━━━━━━━━━━━━━━━\u001b[0m\u001b[37m\u001b[0m \u001b[1m2s\u001b[0m 5ms/step - accuracy: 0.7678 - auc: 0.9670 - loss: 0.6758 - precision: 0.8434 - recall: 0.6951 - val_accuracy: 0.6321 - val_auc: 0.9147 - val_loss: 1.1394 - val_precision: 0.6922 - val_recall: 0.5832 - learning_rate: 2.5000e-04\n",
            "Epoch 18/100\n",
            "\u001b[1m317/317\u001b[0m \u001b[32m━━━━━━━━━━━━━━━━━━━━\u001b[0m\u001b[37m\u001b[0m \u001b[1m2s\u001b[0m 5ms/step - accuracy: 0.7846 - auc: 0.9705 - loss: 0.6344 - precision: 0.8525 - recall: 0.7165 - val_accuracy: 0.6169 - val_auc: 0.9018 - val_loss: 1.2897 - val_precision: 0.6652 - val_recall: 0.5856 - learning_rate: 2.5000e-04\n",
            "Epoch 19/100\n",
            "\u001b[1m317/317\u001b[0m \u001b[32m━━━━━━━━━━━━━━━━━━━━\u001b[0m\u001b[37m\u001b[0m \u001b[1m2s\u001b[0m 5ms/step - accuracy: 0.7983 - auc: 0.9742 - loss: 0.5955 - precision: 0.8623 - recall: 0.7342 - val_accuracy: 0.6015 - val_auc: 0.8734 - val_loss: 1.4960 - val_precision: 0.6506 - val_recall: 0.5538 - learning_rate: 2.5000e-04\n",
            "Epoch 20/100\n",
            "\u001b[1m317/317\u001b[0m \u001b[32m━━━━━━━━━━━━━━━━━━━━\u001b[0m\u001b[37m\u001b[0m \u001b[1m2s\u001b[0m 5ms/step - accuracy: 0.8115 - auc: 0.9764 - loss: 0.5635 - precision: 0.8718 - recall: 0.7554 - val_accuracy: 0.5609 - val_auc: 0.8346 - val_loss: 2.1187 - val_precision: 0.5710 - val_recall: 0.5485 - learning_rate: 2.5000e-04\n",
            "Epoch 21/100\n",
            "\u001b[1m317/317\u001b[0m \u001b[32m━━━━━━━━━━━━━━━━━━━━\u001b[0m\u001b[37m\u001b[0m \u001b[1m2s\u001b[0m 5ms/step - accuracy: 0.8345 - auc: 0.9818 - loss: 0.4990 - precision: 0.8907 - recall: 0.7844 - val_accuracy: 0.6552 - val_auc: 0.9214 - val_loss: 1.1274 - val_precision: 0.7007 - val_recall: 0.6205 - learning_rate: 1.2500e-04\n",
            "Epoch 22/100\n",
            "\u001b[1m317/317\u001b[0m \u001b[32m━━━━━━━━━━━━━━━━━━━━\u001b[0m\u001b[37m\u001b[0m \u001b[1m2s\u001b[0m 5ms/step - accuracy: 0.8457 - auc: 0.9834 - loss: 0.4725 - precision: 0.8980 - recall: 0.8004 - val_accuracy: 0.6469 - val_auc: 0.9171 - val_loss: 1.1827 - val_precision: 0.6959 - val_recall: 0.6102 - learning_rate: 1.2500e-04\n",
            "Epoch 23/100\n",
            "\u001b[1m317/317\u001b[0m \u001b[32m━━━━━━━━━━━━━━━━━━━━\u001b[0m\u001b[37m\u001b[0m \u001b[1m2s\u001b[0m 5ms/step - accuracy: 0.8525 - auc: 0.9851 - loss: 0.4481 - precision: 0.9036 - recall: 0.8069 - val_accuracy: 0.6375 - val_auc: 0.9127 - val_loss: 1.2180 - val_precision: 0.6894 - val_recall: 0.5988 - learning_rate: 1.2500e-04\n",
            "Epoch 24/100\n",
            "\u001b[1m317/317\u001b[0m \u001b[32m━━━━━━━━━━━━━━━━━━━━\u001b[0m\u001b[37m\u001b[0m \u001b[1m2s\u001b[0m 5ms/step - accuracy: 0.8646 - auc: 0.9857 - loss: 0.4269 - precision: 0.9115 - recall: 0.8202 - val_accuracy: 0.6710 - val_auc: 0.9204 - val_loss: 1.1508 - val_precision: 0.7120 - val_recall: 0.6390 - learning_rate: 1.2500e-04\n",
            "Epoch 25/100\n",
            "\u001b[1m317/317\u001b[0m \u001b[32m━━━━━━━━━━━━━━━━━━━━\u001b[0m\u001b[37m\u001b[0m \u001b[1m2s\u001b[0m 5ms/step - accuracy: 0.8748 - auc: 0.9879 - loss: 0.3962 - precision: 0.9171 - recall: 0.8343 - val_accuracy: 0.6477 - val_auc: 0.9121 - val_loss: 1.2319 - val_precision: 0.6869 - val_recall: 0.6195 - learning_rate: 1.2500e-04\n",
            "Epoch 26/100\n",
            "\u001b[1m317/317\u001b[0m \u001b[32m━━━━━━━━━━━━━━━━━━━━\u001b[0m\u001b[37m\u001b[0m \u001b[1m2s\u001b[0m 5ms/step - accuracy: 0.8851 - auc: 0.9897 - loss: 0.3664 - precision: 0.9244 - recall: 0.8481 - val_accuracy: 0.6558 - val_auc: 0.9130 - val_loss: 1.2352 - val_precision: 0.6920 - val_recall: 0.6248 - learning_rate: 6.2500e-05\n",
            "Epoch 27/100\n",
            "\u001b[1m317/317\u001b[0m \u001b[32m━━━━━━━━━━━━━━━━━━━━\u001b[0m\u001b[37m\u001b[0m \u001b[1m2s\u001b[0m 5ms/step - accuracy: 0.8897 - auc: 0.9912 - loss: 0.3402 - precision: 0.9307 - recall: 0.8566 - val_accuracy: 0.6686 - val_auc: 0.9176 - val_loss: 1.2016 - val_precision: 0.7066 - val_recall: 0.6422 - learning_rate: 6.2500e-05\n",
            "Epoch 28/100\n",
            "\u001b[1m317/317\u001b[0m \u001b[32m━━━━━━━━━━━━━━━━━━━━\u001b[0m\u001b[37m\u001b[0m \u001b[1m2s\u001b[0m 5ms/step - accuracy: 0.8914 - auc: 0.9913 - loss: 0.3378 - precision: 0.9291 - recall: 0.8583 - val_accuracy: 0.6517 - val_auc: 0.9065 - val_loss: 1.3146 - val_precision: 0.6884 - val_recall: 0.6242 - learning_rate: 6.2500e-05\n",
            "Epoch 29/100\n",
            "\u001b[1m317/317\u001b[0m \u001b[32m━━━━━━━━━━━━━━━━━━━━\u001b[0m\u001b[37m\u001b[0m \u001b[1m2s\u001b[0m 5ms/step - accuracy: 0.9010 - auc: 0.9923 - loss: 0.3167 - precision: 0.9334 - recall: 0.8661 - val_accuracy: 0.6254 - val_auc: 0.8789 - val_loss: 1.5509 - val_precision: 0.6632 - val_recall: 0.5982 - learning_rate: 6.2500e-05\n",
            "Epoch 30/100\n",
            "\u001b[1m317/317\u001b[0m \u001b[32m━━━━━━━━━━━━━━━━━━━━\u001b[0m\u001b[37m\u001b[0m \u001b[1m2s\u001b[0m 5ms/step - accuracy: 0.9047 - auc: 0.9926 - loss: 0.3093 - precision: 0.9403 - recall: 0.8695 - val_accuracy: 0.6536 - val_auc: 0.9083 - val_loss: 1.2971 - val_precision: 0.6877 - val_recall: 0.6268 - learning_rate: 6.2500e-05\n",
            "Epoch 31/100\n",
            "\u001b[1m317/317\u001b[0m \u001b[32m━━━━━━━━━━━━━━━━━━━━\u001b[0m\u001b[37m\u001b[0m \u001b[1m2s\u001b[0m 5ms/step - accuracy: 0.9023 - auc: 0.9930 - loss: 0.3029 - precision: 0.9359 - recall: 0.8719 - val_accuracy: 0.6659 - val_auc: 0.9133 - val_loss: 1.2606 - val_precision: 0.6996 - val_recall: 0.6394 - learning_rate: 3.1250e-05\n",
            "Epoch 32/100\n",
            "\u001b[1m317/317\u001b[0m \u001b[32m━━━━━━━━━━━━━━━━━━━━\u001b[0m\u001b[37m\u001b[0m \u001b[1m2s\u001b[0m 5ms/step - accuracy: 0.9083 - auc: 0.9933 - loss: 0.2935 - precision: 0.9413 - recall: 0.8760 - val_accuracy: 0.6718 - val_auc: 0.9147 - val_loss: 1.2359 - val_precision: 0.7094 - val_recall: 0.6455 - learning_rate: 3.1250e-05\n",
            "Epoch 33/100\n",
            "\u001b[1m317/317\u001b[0m \u001b[32m━━━━━━━━━━━━━━━━━━━━\u001b[0m\u001b[37m\u001b[0m \u001b[1m2s\u001b[0m 5ms/step - accuracy: 0.9092 - auc: 0.9936 - loss: 0.2899 - precision: 0.9424 - recall: 0.8767 - val_accuracy: 0.6777 - val_auc: 0.9150 - val_loss: 1.2359 - val_precision: 0.7150 - val_recall: 0.6505 - learning_rate: 3.1250e-05\n",
            "Epoch 34/100\n",
            "\u001b[1m317/317\u001b[0m \u001b[32m━━━━━━━━━━━━━━━━━━━━\u001b[0m\u001b[37m\u001b[0m \u001b[1m2s\u001b[0m 5ms/step - accuracy: 0.9085 - auc: 0.9933 - loss: 0.2928 - precision: 0.9419 - recall: 0.8767 - val_accuracy: 0.6755 - val_auc: 0.9133 - val_loss: 1.2522 - val_precision: 0.7130 - val_recall: 0.6477 - learning_rate: 3.1250e-05\n",
            "Epoch 35/100\n",
            "\u001b[1m317/317\u001b[0m \u001b[32m━━━━━━━━━━━━━━━━━━━━\u001b[0m\u001b[37m\u001b[0m \u001b[1m2s\u001b[0m 5ms/step - accuracy: 0.9114 - auc: 0.9940 - loss: 0.2796 - precision: 0.9447 - recall: 0.8820 - val_accuracy: 0.6714 - val_auc: 0.9112 - val_loss: 1.2702 - val_precision: 0.7059 - val_recall: 0.6424 - learning_rate: 3.1250e-05\n",
            "Epoch 36/100\n",
            "\u001b[1m317/317\u001b[0m \u001b[32m━━━━━━━━━━━━━━━━━━━━\u001b[0m\u001b[37m\u001b[0m \u001b[1m2s\u001b[0m 5ms/step - accuracy: 0.9109 - auc: 0.9945 - loss: 0.2743 - precision: 0.9456 - recall: 0.8812 - val_accuracy: 0.6714 - val_auc: 0.9119 - val_loss: 1.2705 - val_precision: 0.7073 - val_recall: 0.6440 - learning_rate: 1.5625e-05\n",
            "Epoch 37/100\n",
            "\u001b[1m317/317\u001b[0m \u001b[32m━━━━━━━━━━━━━━━━━━━━\u001b[0m\u001b[37m\u001b[0m \u001b[1m2s\u001b[0m 5ms/step - accuracy: 0.9109 - auc: 0.9938 - loss: 0.2821 - precision: 0.9411 - recall: 0.8841 - val_accuracy: 0.6744 - val_auc: 0.9117 - val_loss: 1.2730 - val_precision: 0.7084 - val_recall: 0.6521 - learning_rate: 1.5625e-05\n",
            "Epoch 38/100\n",
            "\u001b[1m317/317\u001b[0m \u001b[32m━━━━━━━━━━━━━━━━━━━━\u001b[0m\u001b[37m\u001b[0m \u001b[1m2s\u001b[0m 5ms/step - accuracy: 0.9147 - auc: 0.9941 - loss: 0.2756 - precision: 0.9455 - recall: 0.8842 - val_accuracy: 0.6734 - val_auc: 0.9111 - val_loss: 1.2775 - val_precision: 0.7069 - val_recall: 0.6497 - learning_rate: 1.5625e-05\n",
            "Epoch 39/100\n",
            "\u001b[1m317/317\u001b[0m \u001b[32m━━━━━━━━━━━━━━━━━━━━\u001b[0m\u001b[37m\u001b[0m \u001b[1m2s\u001b[0m 5ms/step - accuracy: 0.9167 - auc: 0.9945 - loss: 0.2652 - precision: 0.9465 - recall: 0.8882 - val_accuracy: 0.6527 - val_auc: 0.9045 - val_loss: 1.3560 - val_precision: 0.6824 - val_recall: 0.6292 - learning_rate: 1.5625e-05\n",
            "Epoch 40/100\n",
            "\u001b[1m317/317\u001b[0m \u001b[32m━━━━━━━━━━━━━━━━━━━━\u001b[0m\u001b[37m\u001b[0m \u001b[1m2s\u001b[0m 5ms/step - accuracy: 0.9134 - auc: 0.9946 - loss: 0.2703 - precision: 0.9443 - recall: 0.8834 - val_accuracy: 0.6744 - val_auc: 0.9123 - val_loss: 1.2711 - val_precision: 0.7104 - val_recall: 0.6544 - learning_rate: 1.5625e-05\n",
            "Epoch 41/100\n",
            "\u001b[1m317/317\u001b[0m \u001b[32m━━━━━━━━━━━━━━━━━━━━\u001b[0m\u001b[37m\u001b[0m \u001b[1m2s\u001b[0m 5ms/step - accuracy: 0.9208 - auc: 0.9951 - loss: 0.2538 - precision: 0.9503 - recall: 0.8928 - val_accuracy: 0.6736 - val_auc: 0.9108 - val_loss: 1.2827 - val_precision: 0.7065 - val_recall: 0.6475 - learning_rate: 7.8125e-06\n",
            "Epoch 42/100\n",
            "\u001b[1m317/317\u001b[0m \u001b[32m━━━━━━━━━━━━━━━━━━━━\u001b[0m\u001b[37m\u001b[0m \u001b[1m2s\u001b[0m 5ms/step - accuracy: 0.9186 - auc: 0.9948 - loss: 0.2612 - precision: 0.9485 - recall: 0.8922 - val_accuracy: 0.6773 - val_auc: 0.9124 - val_loss: 1.2729 - val_precision: 0.7110 - val_recall: 0.6560 - learning_rate: 7.8125e-06\n",
            "Epoch 43/100\n",
            "\u001b[1m317/317\u001b[0m \u001b[32m━━━━━━━━━━━━━━━━━━━━\u001b[0m\u001b[37m\u001b[0m \u001b[1m2s\u001b[0m 5ms/step - accuracy: 0.9207 - auc: 0.9950 - loss: 0.2549 - precision: 0.9495 - recall: 0.8919 - val_accuracy: 0.6761 - val_auc: 0.9122 - val_loss: 1.2784 - val_precision: 0.7093 - val_recall: 0.6501 - learning_rate: 7.8125e-06\n",
            "Epoch 44/100\n",
            "\u001b[1m317/317\u001b[0m \u001b[32m━━━━━━━━━━━━━━━━━━━━\u001b[0m\u001b[37m\u001b[0m \u001b[1m2s\u001b[0m 5ms/step - accuracy: 0.9197 - auc: 0.9947 - loss: 0.2586 - precision: 0.9498 - recall: 0.8898 - val_accuracy: 0.6791 - val_auc: 0.9103 - val_loss: 1.2828 - val_precision: 0.7098 - val_recall: 0.6554 - learning_rate: 7.8125e-06\n",
            "Epoch 45/100\n",
            "\u001b[1m317/317\u001b[0m \u001b[32m━━━━━━━━━━━━━━━━━━━━\u001b[0m\u001b[37m\u001b[0m \u001b[1m2s\u001b[0m 5ms/step - accuracy: 0.9161 - auc: 0.9950 - loss: 0.2585 - precision: 0.9499 - recall: 0.8907 - val_accuracy: 0.6777 - val_auc: 0.9111 - val_loss: 1.2866 - val_precision: 0.7108 - val_recall: 0.6534 - learning_rate: 7.8125e-06\n",
            "Epoch 46/100\n",
            "\u001b[1m317/317\u001b[0m \u001b[32m━━━━━━━━━━━━━━━━━━━━\u001b[0m\u001b[37m\u001b[0m \u001b[1m2s\u001b[0m 5ms/step - accuracy: 0.9204 - auc: 0.9954 - loss: 0.2476 - precision: 0.9508 - recall: 0.8940 - val_accuracy: 0.6787 - val_auc: 0.9114 - val_loss: 1.2809 - val_precision: 0.7120 - val_recall: 0.6534 - learning_rate: 3.9063e-06\n",
            "Epoch 47/100\n",
            "\u001b[1m317/317\u001b[0m \u001b[32m━━━━━━━━━━━━━━━━━━━━\u001b[0m\u001b[37m\u001b[0m \u001b[1m2s\u001b[0m 5ms/step - accuracy: 0.9211 - auc: 0.9953 - loss: 0.2519 - precision: 0.9503 - recall: 0.8923 - val_accuracy: 0.6783 - val_auc: 0.9106 - val_loss: 1.2826 - val_precision: 0.7104 - val_recall: 0.6515 - learning_rate: 3.9063e-06\n",
            "Epoch 48/100\n",
            "\u001b[1m317/317\u001b[0m \u001b[32m━━━━━━━━━━━━━━━━━━━━\u001b[0m\u001b[37m\u001b[0m \u001b[1m2s\u001b[0m 5ms/step - accuracy: 0.9178 - auc: 0.9949 - loss: 0.2597 - precision: 0.9482 - recall: 0.8895 - val_accuracy: 0.6757 - val_auc: 0.9094 - val_loss: 1.2891 - val_precision: 0.7104 - val_recall: 0.6521 - learning_rate: 3.9063e-06\n",
            "Epoch 49/100\n",
            "\u001b[1m317/317\u001b[0m \u001b[32m━━━━━━━━━━━━━━━━━━━━\u001b[0m\u001b[37m\u001b[0m \u001b[1m2s\u001b[0m 5ms/step - accuracy: 0.9174 - auc: 0.9949 - loss: 0.2575 - precision: 0.9482 - recall: 0.8924 - val_accuracy: 0.6746 - val_auc: 0.9112 - val_loss: 1.2822 - val_precision: 0.7101 - val_recall: 0.6527 - learning_rate: 3.9063e-06\n",
            "Epoch 50/100\n",
            "\u001b[1m317/317\u001b[0m \u001b[32m━━━━━━━━━━━━━━━━━━━━\u001b[0m\u001b[37m\u001b[0m \u001b[1m2s\u001b[0m 5ms/step - accuracy: 0.9195 - auc: 0.9946 - loss: 0.2600 - precision: 0.9509 - recall: 0.8908 - val_accuracy: 0.6734 - val_auc: 0.9094 - val_loss: 1.2960 - val_precision: 0.7057 - val_recall: 0.6483 - learning_rate: 3.9063e-06\n",
            "Epoch 51/100\n",
            "\u001b[1m317/317\u001b[0m \u001b[32m━━━━━━━━━━━━━━━━━━━━\u001b[0m\u001b[37m\u001b[0m \u001b[1m2s\u001b[0m 5ms/step - accuracy: 0.9233 - auc: 0.9953 - loss: 0.2470 - precision: 0.9507 - recall: 0.8955 - val_accuracy: 0.6757 - val_auc: 0.9106 - val_loss: 1.2851 - val_precision: 0.7090 - val_recall: 0.6517 - learning_rate: 1.9531e-06\n",
            "Epoch 52/100\n",
            "\u001b[1m317/317\u001b[0m \u001b[32m━━━━━━━━━━━━━━━━━━━━\u001b[0m\u001b[37m\u001b[0m \u001b[1m2s\u001b[0m 5ms/step - accuracy: 0.9234 - auc: 0.9955 - loss: 0.2451 - precision: 0.9510 - recall: 0.8959 - val_accuracy: 0.6787 - val_auc: 0.9109 - val_loss: 1.2856 - val_precision: 0.7119 - val_recall: 0.6548 - learning_rate: 1.9531e-06\n",
            "Epoch 53/100\n",
            "\u001b[1m317/317\u001b[0m \u001b[32m━━━━━━━━━━━━━━━━━━━━\u001b[0m\u001b[37m\u001b[0m \u001b[1m2s\u001b[0m 5ms/step - accuracy: 0.9196 - auc: 0.9951 - loss: 0.2540 - precision: 0.9484 - recall: 0.8933 - val_accuracy: 0.6781 - val_auc: 0.9103 - val_loss: 1.2860 - val_precision: 0.7121 - val_recall: 0.6542 - learning_rate: 1.9531e-06\n",
            "Epoch 54/100\n",
            "\u001b[1m317/317\u001b[0m \u001b[32m━━━━━━━━━━━━━━━━━━━━\u001b[0m\u001b[37m\u001b[0m \u001b[1m2s\u001b[0m 5ms/step - accuracy: 0.9256 - auc: 0.9951 - loss: 0.2478 - precision: 0.9537 - recall: 0.8964 - val_accuracy: 0.6763 - val_auc: 0.9107 - val_loss: 1.2833 - val_precision: 0.7109 - val_recall: 0.6517 - learning_rate: 1.9531e-06\n",
            "Epoch 55/100\n",
            "\u001b[1m317/317\u001b[0m \u001b[32m━━━━━━━━━━━━━━━━━━━━\u001b[0m\u001b[37m\u001b[0m \u001b[1m2s\u001b[0m 5ms/step - accuracy: 0.9181 - auc: 0.9951 - loss: 0.2534 - precision: 0.9468 - recall: 0.8929 - val_accuracy: 0.6765 - val_auc: 0.9101 - val_loss: 1.2891 - val_precision: 0.7115 - val_recall: 0.6542 - learning_rate: 1.9531e-06\n",
            "Epoch 56/100\n",
            "\u001b[1m317/317\u001b[0m \u001b[32m━━━━━━━━━━━━━━━━━━━━\u001b[0m\u001b[37m\u001b[0m \u001b[1m2s\u001b[0m 5ms/step - accuracy: 0.9217 - auc: 0.9954 - loss: 0.2497 - precision: 0.9511 - recall: 0.8919 - val_accuracy: 0.6748 - val_auc: 0.9093 - val_loss: 1.2937 - val_precision: 0.7079 - val_recall: 0.6515 - learning_rate: 1.0000e-06\n",
            "Epoch 57/100\n",
            "\u001b[1m317/317\u001b[0m \u001b[32m━━━━━━━━━━━━━━━━━━━━\u001b[0m\u001b[37m\u001b[0m \u001b[1m2s\u001b[0m 5ms/step - accuracy: 0.9198 - auc: 0.9946 - loss: 0.2594 - precision: 0.9513 - recall: 0.8916 - val_accuracy: 0.6775 - val_auc: 0.9109 - val_loss: 1.2848 - val_precision: 0.7113 - val_recall: 0.6525 - learning_rate: 1.0000e-06\n",
            "Epoch 58/100\n",
            "\u001b[1m317/317\u001b[0m \u001b[32m━━━━━━━━━━━━━━━━━━━━\u001b[0m\u001b[37m\u001b[0m \u001b[1m2s\u001b[0m 5ms/step - accuracy: 0.9239 - auc: 0.9953 - loss: 0.2472 - precision: 0.9508 - recall: 0.8967 - val_accuracy: 0.6746 - val_auc: 0.9105 - val_loss: 1.2920 - val_precision: 0.7077 - val_recall: 0.6527 - learning_rate: 1.0000e-06\n",
            "Epoch 59/100\n",
            "\u001b[1m317/317\u001b[0m \u001b[32m━━━━━━━━━━━━━━━━━━━━\u001b[0m\u001b[37m\u001b[0m \u001b[1m2s\u001b[0m 5ms/step - accuracy: 0.9195 - auc: 0.9947 - loss: 0.2575 - precision: 0.9485 - recall: 0.8942 - val_accuracy: 0.6759 - val_auc: 0.9102 - val_loss: 1.2908 - val_precision: 0.7099 - val_recall: 0.6525 - learning_rate: 1.0000e-06\n",
            "Epoch 60/100\n",
            "\u001b[1m317/317\u001b[0m \u001b[32m━━━━━━━━━━━━━━━━━━━━\u001b[0m\u001b[37m\u001b[0m \u001b[1m2s\u001b[0m 5ms/step - accuracy: 0.9226 - auc: 0.9954 - loss: 0.2457 - precision: 0.9518 - recall: 0.8962 - val_accuracy: 0.6752 - val_auc: 0.9091 - val_loss: 1.2948 - val_precision: 0.7108 - val_recall: 0.6530 - learning_rate: 1.0000e-06\n",
            "Epoch 61/100\n",
            "\u001b[1m317/317\u001b[0m \u001b[32m━━━━━━━━━━━━━━━━━━━━\u001b[0m\u001b[37m\u001b[0m \u001b[1m2s\u001b[0m 5ms/step - accuracy: 0.9230 - auc: 0.9953 - loss: 0.2505 - precision: 0.9515 - recall: 0.8957 - val_accuracy: 0.6755 - val_auc: 0.9098 - val_loss: 1.2944 - val_precision: 0.7085 - val_recall: 0.6519 - learning_rate: 1.0000e-06\n",
            "Epoch 62/100\n",
            "\u001b[1m317/317\u001b[0m \u001b[32m━━━━━━━━━━━━━━━━━━━━\u001b[0m\u001b[37m\u001b[0m \u001b[1m2s\u001b[0m 5ms/step - accuracy: 0.9224 - auc: 0.9950 - loss: 0.2534 - precision: 0.9483 - recall: 0.8936 - val_accuracy: 0.6763 - val_auc: 0.9091 - val_loss: 1.2921 - val_precision: 0.7101 - val_recall: 0.6527 - learning_rate: 1.0000e-06\n",
            "Epoch 63/100\n",
            "\u001b[1m317/317\u001b[0m \u001b[32m━━━━━━━━━━━━━━━━━━━━\u001b[0m\u001b[37m\u001b[0m \u001b[1m2s\u001b[0m 5ms/step - accuracy: 0.9201 - auc: 0.9952 - loss: 0.2534 - precision: 0.9474 - recall: 0.8916 - val_accuracy: 0.6752 - val_auc: 0.9095 - val_loss: 1.2920 - val_precision: 0.7098 - val_recall: 0.6513 - learning_rate: 1.0000e-06\n",
            "Epoch 64/100\n",
            "\u001b[1m317/317\u001b[0m \u001b[32m━━━━━━━━━━━━━━━━━━━━\u001b[0m\u001b[37m\u001b[0m \u001b[1m2s\u001b[0m 5ms/step - accuracy: 0.9158 - auc: 0.9950 - loss: 0.2564 - precision: 0.9468 - recall: 0.8882 - val_accuracy: 0.6769 - val_auc: 0.9103 - val_loss: 1.2852 - val_precision: 0.7111 - val_recall: 0.6523 - learning_rate: 1.0000e-06\n",
            "Epoch 65/100\n",
            "\u001b[1m317/317\u001b[0m \u001b[32m━━━━━━━━━━━━━━━━━━━━\u001b[0m\u001b[37m\u001b[0m \u001b[1m2s\u001b[0m 5ms/step - accuracy: 0.9209 - auc: 0.9949 - loss: 0.2554 - precision: 0.9468 - recall: 0.8944 - val_accuracy: 0.6765 - val_auc: 0.9105 - val_loss: 1.2875 - val_precision: 0.7116 - val_recall: 0.6550 - learning_rate: 1.0000e-06\n",
            "Epoch 66/100\n",
            "\u001b[1m317/317\u001b[0m \u001b[32m━━━━━━━━━━━━━━━━━━━━\u001b[0m\u001b[37m\u001b[0m \u001b[1m2s\u001b[0m 5ms/step - accuracy: 0.9236 - auc: 0.9951 - loss: 0.2496 - precision: 0.9493 - recall: 0.8961 - val_accuracy: 0.6767 - val_auc: 0.9095 - val_loss: 1.2922 - val_precision: 0.7092 - val_recall: 0.6536 - learning_rate: 1.0000e-06\n",
            "Epoch 67/100\n",
            "\u001b[1m317/317\u001b[0m \u001b[32m━━━━━━━━━━━━━━━━━━━━\u001b[0m\u001b[37m\u001b[0m \u001b[1m2s\u001b[0m 5ms/step - accuracy: 0.9265 - auc: 0.9951 - loss: 0.2430 - precision: 0.9522 - recall: 0.8981 - val_accuracy: 0.6755 - val_auc: 0.9095 - val_loss: 1.2949 - val_precision: 0.7098 - val_recall: 0.6527 - learning_rate: 1.0000e-06\n",
            "Epoch 68/100\n",
            "\u001b[1m317/317\u001b[0m \u001b[32m━━━━━━━━━━━━━━━━━━━━\u001b[0m\u001b[37m\u001b[0m \u001b[1m2s\u001b[0m 5ms/step - accuracy: 0.9259 - auc: 0.9951 - loss: 0.2460 - precision: 0.9527 - recall: 0.8993 - val_accuracy: 0.6754 - val_auc: 0.9094 - val_loss: 1.2911 - val_precision: 0.7106 - val_recall: 0.6532 - learning_rate: 1.0000e-06\n",
            "Epoch 69/100\n",
            "\u001b[1m317/317\u001b[0m \u001b[32m━━━━━━━━━━━━━━━━━━━━\u001b[0m\u001b[37m\u001b[0m \u001b[1m2s\u001b[0m 5ms/step - accuracy: 0.9280 - auc: 0.9957 - loss: 0.2393 - precision: 0.9557 - recall: 0.9003 - val_accuracy: 0.6754 - val_auc: 0.9096 - val_loss: 1.2928 - val_precision: 0.7106 - val_recall: 0.6523 - learning_rate: 1.0000e-06\n",
            "Epoch 70/100\n",
            "\u001b[1m317/317\u001b[0m \u001b[32m━━━━━━━━━━━━━━━━━━━━\u001b[0m\u001b[37m\u001b[0m \u001b[1m2s\u001b[0m 5ms/step - accuracy: 0.9243 - auc: 0.9956 - loss: 0.2465 - precision: 0.9506 - recall: 0.8962 - val_accuracy: 0.6759 - val_auc: 0.9100 - val_loss: 1.2918 - val_precision: 0.7105 - val_recall: 0.6521 - learning_rate: 1.0000e-06\n",
            "Epoch 71/100\n",
            "\u001b[1m317/317\u001b[0m \u001b[32m━━━━━━━━━━━━━━━━━━━━\u001b[0m\u001b[37m\u001b[0m \u001b[1m2s\u001b[0m 5ms/step - accuracy: 0.9223 - auc: 0.9949 - loss: 0.2514 - precision: 0.9533 - recall: 0.8952 - val_accuracy: 0.6763 - val_auc: 0.9092 - val_loss: 1.2932 - val_precision: 0.7108 - val_recall: 0.6554 - learning_rate: 1.0000e-06\n",
            "Epoch 72/100\n",
            "\u001b[1m317/317\u001b[0m \u001b[32m━━━━━━━━━━━━━━━━━━━━\u001b[0m\u001b[37m\u001b[0m \u001b[1m2s\u001b[0m 5ms/step - accuracy: 0.9180 - auc: 0.9951 - loss: 0.2521 - precision: 0.9456 - recall: 0.8923 - val_accuracy: 0.6736 - val_auc: 0.9100 - val_loss: 1.2903 - val_precision: 0.7088 - val_recall: 0.6536 - learning_rate: 1.0000e-06\n",
            "Epoch 73/100\n",
            "\u001b[1m317/317\u001b[0m \u001b[32m━━━━━━━━━━━━━━━━━━━━\u001b[0m\u001b[37m\u001b[0m \u001b[1m2s\u001b[0m 5ms/step - accuracy: 0.9224 - auc: 0.9952 - loss: 0.2519 - precision: 0.9513 - recall: 0.8969 - val_accuracy: 0.6752 - val_auc: 0.9095 - val_loss: 1.2943 - val_precision: 0.7084 - val_recall: 0.6530 - learning_rate: 1.0000e-06\n",
            "Epoch 74/100\n",
            "\u001b[1m317/317\u001b[0m \u001b[32m━━━━━━━━━━━━━━━━━━━━\u001b[0m\u001b[37m\u001b[0m \u001b[1m2s\u001b[0m 5ms/step - accuracy: 0.9244 - auc: 0.9951 - loss: 0.2476 - precision: 0.9518 - recall: 0.8976 - val_accuracy: 0.6748 - val_auc: 0.9097 - val_loss: 1.2911 - val_precision: 0.7104 - val_recall: 0.6540 - learning_rate: 1.0000e-06\n",
            "Epoch 75/100\n",
            "\u001b[1m317/317\u001b[0m \u001b[32m━━━━━━━━━━━━━━━━━━━━\u001b[0m\u001b[37m\u001b[0m \u001b[1m2s\u001b[0m 5ms/step - accuracy: 0.9246 - auc: 0.9953 - loss: 0.2444 - precision: 0.9507 - recall: 0.8986 - val_accuracy: 0.6757 - val_auc: 0.9097 - val_loss: 1.2925 - val_precision: 0.7104 - val_recall: 0.6546 - learning_rate: 1.0000e-06\n",
            "Epoch 76/100\n",
            "\u001b[1m317/317\u001b[0m \u001b[32m━━━━━━━━━━━━━━━━━━━━\u001b[0m\u001b[37m\u001b[0m \u001b[1m2s\u001b[0m 5ms/step - accuracy: 0.9261 - auc: 0.9952 - loss: 0.2459 - precision: 0.9492 - recall: 0.9004 - val_accuracy: 0.6757 - val_auc: 0.9099 - val_loss: 1.2919 - val_precision: 0.7095 - val_recall: 0.6521 - learning_rate: 1.0000e-06\n",
            "Epoch 77/100\n",
            "\u001b[1m317/317\u001b[0m \u001b[32m━━━━━━━━━━━━━━━━━━━━\u001b[0m\u001b[37m\u001b[0m \u001b[1m2s\u001b[0m 5ms/step - accuracy: 0.9244 - auc: 0.9954 - loss: 0.2476 - precision: 0.9525 - recall: 0.8956 - val_accuracy: 0.6754 - val_auc: 0.9098 - val_loss: 1.2943 - val_precision: 0.7087 - val_recall: 0.6525 - learning_rate: 1.0000e-06\n",
            "Epoch 78/100\n",
            "\u001b[1m317/317\u001b[0m \u001b[32m━━━━━━━━━━━━━━━━━━━━\u001b[0m\u001b[37m\u001b[0m \u001b[1m2s\u001b[0m 5ms/step - accuracy: 0.9231 - auc: 0.9954 - loss: 0.2443 - precision: 0.9532 - recall: 0.8980 - val_accuracy: 0.6761 - val_auc: 0.9096 - val_loss: 1.2906 - val_precision: 0.7100 - val_recall: 0.6529 - learning_rate: 1.0000e-06\n",
            "Epoch 79/100\n",
            "\u001b[1m317/317\u001b[0m \u001b[32m━━━━━━━━━━━━━━━━━━━━\u001b[0m\u001b[37m\u001b[0m \u001b[1m2s\u001b[0m 5ms/step - accuracy: 0.9209 - auc: 0.9952 - loss: 0.2491 - precision: 0.9500 - recall: 0.8956 - val_accuracy: 0.6779 - val_auc: 0.9092 - val_loss: 1.2948 - val_precision: 0.7094 - val_recall: 0.6546 - learning_rate: 1.0000e-06\n",
            "Epoch 80/100\n",
            "\u001b[1m317/317\u001b[0m \u001b[32m━━━━━━━━━━━━━━━━━━━━\u001b[0m\u001b[37m\u001b[0m \u001b[1m2s\u001b[0m 5ms/step - accuracy: 0.9251 - auc: 0.9956 - loss: 0.2406 - precision: 0.9539 - recall: 0.8995 - val_accuracy: 0.6757 - val_auc: 0.9092 - val_loss: 1.2944 - val_precision: 0.7095 - val_recall: 0.6530 - learning_rate: 1.0000e-06\n",
            "Epoch 81/100\n",
            "\u001b[1m317/317\u001b[0m \u001b[32m━━━━━━━━━━━━━━━━━━━━\u001b[0m\u001b[37m\u001b[0m \u001b[1m2s\u001b[0m 5ms/step - accuracy: 0.9272 - auc: 0.9956 - loss: 0.2385 - precision: 0.9550 - recall: 0.9005 - val_accuracy: 0.6761 - val_auc: 0.9094 - val_loss: 1.2958 - val_precision: 0.7096 - val_recall: 0.6544 - learning_rate: 1.0000e-06\n",
            "Epoch 82/100\n",
            "\u001b[1m317/317\u001b[0m \u001b[32m━━━━━━━━━━━━━━━━━━━━\u001b[0m\u001b[37m\u001b[0m \u001b[1m2s\u001b[0m 5ms/step - accuracy: 0.9281 - auc: 0.9958 - loss: 0.2383 - precision: 0.9536 - recall: 0.9025 - val_accuracy: 0.6765 - val_auc: 0.9092 - val_loss: 1.2946 - val_precision: 0.7095 - val_recall: 0.6536 - learning_rate: 1.0000e-06\n",
            "Epoch 83/100\n",
            "\u001b[1m317/317\u001b[0m \u001b[32m━━━━━━━━━━━━━━━━━━━━\u001b[0m\u001b[37m\u001b[0m \u001b[1m2s\u001b[0m 5ms/step - accuracy: 0.9264 - auc: 0.9957 - loss: 0.2380 - precision: 0.9528 - recall: 0.9008 - val_accuracy: 0.6759 - val_auc: 0.9100 - val_loss: 1.2952 - val_precision: 0.7108 - val_recall: 0.6521 - learning_rate: 1.0000e-06\n",
            "Epoch 84/100\n",
            "\u001b[1m317/317\u001b[0m \u001b[32m━━━━━━━━━━━━━━━━━━━━\u001b[0m\u001b[37m\u001b[0m \u001b[1m2s\u001b[0m 5ms/step - accuracy: 0.9237 - auc: 0.9954 - loss: 0.2471 - precision: 0.9484 - recall: 0.8942 - val_accuracy: 0.6755 - val_auc: 0.9097 - val_loss: 1.2947 - val_precision: 0.7105 - val_recall: 0.6532 - learning_rate: 1.0000e-06\n",
            "Epoch 85/100\n",
            "\u001b[1m317/317\u001b[0m \u001b[32m━━━━━━━━━━━━━━━━━━━━\u001b[0m\u001b[37m\u001b[0m \u001b[1m2s\u001b[0m 5ms/step - accuracy: 0.9250 - auc: 0.9954 - loss: 0.2443 - precision: 0.9520 - recall: 0.8975 - val_accuracy: 0.6746 - val_auc: 0.9094 - val_loss: 1.2947 - val_precision: 0.7087 - val_recall: 0.6517 - learning_rate: 1.0000e-06\n",
            "Epoch 86/100\n",
            "\u001b[1m317/317\u001b[0m \u001b[32m━━━━━━━━━━━━━━━━━━━━\u001b[0m\u001b[37m\u001b[0m \u001b[1m2s\u001b[0m 5ms/step - accuracy: 0.9263 - auc: 0.9951 - loss: 0.2447 - precision: 0.9525 - recall: 0.8957 - val_accuracy: 0.6771 - val_auc: 0.9096 - val_loss: 1.2956 - val_precision: 0.7089 - val_recall: 0.6517 - learning_rate: 1.0000e-06\n",
            "Epoch 87/100\n",
            "\u001b[1m317/317\u001b[0m \u001b[32m━━━━━━━━━━━━━━━━━━━━\u001b[0m\u001b[37m\u001b[0m \u001b[1m2s\u001b[0m 5ms/step - accuracy: 0.9242 - auc: 0.9952 - loss: 0.2482 - precision: 0.9505 - recall: 0.8970 - val_accuracy: 0.6755 - val_auc: 0.9093 - val_loss: 1.2968 - val_precision: 0.7089 - val_recall: 0.6523 - learning_rate: 1.0000e-06\n",
            "Epoch 88/100\n",
            "\u001b[1m317/317\u001b[0m \u001b[32m━━━━━━━━━━━━━━━━━━━━\u001b[0m\u001b[37m\u001b[0m \u001b[1m2s\u001b[0m 5ms/step - accuracy: 0.9265 - auc: 0.9951 - loss: 0.2474 - precision: 0.9542 - recall: 0.8976 - val_accuracy: 0.6771 - val_auc: 0.9101 - val_loss: 1.2932 - val_precision: 0.7094 - val_recall: 0.6523 - learning_rate: 1.0000e-06\n",
            "Epoch 89/100\n",
            "\u001b[1m317/317\u001b[0m \u001b[32m━━━━━━━━━━━━━━━━━━━━\u001b[0m\u001b[37m\u001b[0m \u001b[1m2s\u001b[0m 5ms/step - accuracy: 0.9199 - auc: 0.9948 - loss: 0.2556 - precision: 0.9470 - recall: 0.8935 - val_accuracy: 0.6767 - val_auc: 0.9091 - val_loss: 1.2966 - val_precision: 0.7101 - val_recall: 0.6534 - learning_rate: 1.0000e-06\n",
            "Epoch 90/100\n",
            "\u001b[1m317/317\u001b[0m \u001b[32m━━━━━━━━━━━━━━━━━━━━\u001b[0m\u001b[37m\u001b[0m \u001b[1m2s\u001b[0m 5ms/step - accuracy: 0.9213 - auc: 0.9948 - loss: 0.2521 - precision: 0.9481 - recall: 0.8931 - val_accuracy: 0.6754 - val_auc: 0.9093 - val_loss: 1.2975 - val_precision: 0.7107 - val_recall: 0.6540 - learning_rate: 1.0000e-06\n",
            "Epoch 91/100\n",
            "\u001b[1m317/317\u001b[0m \u001b[32m━━━━━━━━━━━━━━━━━━━━\u001b[0m\u001b[37m\u001b[0m \u001b[1m2s\u001b[0m 5ms/step - accuracy: 0.9294 - auc: 0.9956 - loss: 0.2402 - precision: 0.9560 - recall: 0.8999 - val_accuracy: 0.6765 - val_auc: 0.9096 - val_loss: 1.2912 - val_precision: 0.7098 - val_recall: 0.6532 - learning_rate: 1.0000e-06\n",
            "Epoch 92/100\n",
            "\u001b[1m317/317\u001b[0m \u001b[32m━━━━━━━━━━━━━━━━━━━━\u001b[0m\u001b[37m\u001b[0m \u001b[1m2s\u001b[0m 5ms/step - accuracy: 0.9219 - auc: 0.9949 - loss: 0.2506 - precision: 0.9503 - recall: 0.8931 - val_accuracy: 0.6748 - val_auc: 0.9092 - val_loss: 1.2974 - val_precision: 0.7093 - val_recall: 0.6525 - learning_rate: 1.0000e-06\n",
            "Epoch 93/100\n",
            "\u001b[1m317/317\u001b[0m \u001b[32m━━━━━━━━━━━━━━━━━━━━\u001b[0m\u001b[37m\u001b[0m \u001b[1m2s\u001b[0m 5ms/step - accuracy: 0.9246 - auc: 0.9956 - loss: 0.2405 - precision: 0.9504 - recall: 0.8991 - val_accuracy: 0.6769 - val_auc: 0.9097 - val_loss: 1.2927 - val_precision: 0.7103 - val_recall: 0.6538 - learning_rate: 1.0000e-06\n",
            "Epoch 94/100\n",
            "\u001b[1m317/317\u001b[0m \u001b[32m━━━━━━━━━━━━━━━━━━━━\u001b[0m\u001b[37m\u001b[0m \u001b[1m2s\u001b[0m 5ms/step - accuracy: 0.9247 - auc: 0.9948 - loss: 0.2489 - precision: 0.9515 - recall: 0.8968 - val_accuracy: 0.6759 - val_auc: 0.9095 - val_loss: 1.2938 - val_precision: 0.7111 - val_recall: 0.6542 - learning_rate: 1.0000e-06\n",
            "Epoch 95/100\n",
            "\u001b[1m317/317\u001b[0m \u001b[32m━━━━━━━━━━━━━━━━━━━━\u001b[0m\u001b[37m\u001b[0m \u001b[1m2s\u001b[0m 5ms/step - accuracy: 0.9260 - auc: 0.9955 - loss: 0.2400 - precision: 0.9512 - recall: 0.8972 - val_accuracy: 0.6740 - val_auc: 0.9087 - val_loss: 1.3013 - val_precision: 0.7080 - val_recall: 0.6519 - learning_rate: 1.0000e-06\n",
            "Epoch 96/100\n",
            "\u001b[1m317/317\u001b[0m \u001b[32m━━━━━━━━━━━━━━━━━━━━\u001b[0m\u001b[37m\u001b[0m \u001b[1m2s\u001b[0m 6ms/step - accuracy: 0.9228 - auc: 0.9959 - loss: 0.2423 - precision: 0.9500 - recall: 0.8945 - val_accuracy: 0.6763 - val_auc: 0.9091 - val_loss: 1.2942 - val_precision: 0.7108 - val_recall: 0.6542 - learning_rate: 1.0000e-06\n",
            "Epoch 97/100\n",
            "\u001b[1m317/317\u001b[0m \u001b[32m━━━━━━━━━━━━━━━━━━━━\u001b[0m\u001b[37m\u001b[0m \u001b[1m2s\u001b[0m 5ms/step - accuracy: 0.9252 - auc: 0.9956 - loss: 0.2402 - precision: 0.9525 - recall: 0.8987 - val_accuracy: 0.6779 - val_auc: 0.9092 - val_loss: 1.2968 - val_precision: 0.7103 - val_recall: 0.6542 - learning_rate: 1.0000e-06\n",
            "Epoch 98/100\n",
            "\u001b[1m317/317\u001b[0m \u001b[32m━━━━━━━━━━━━━━━━━━━━\u001b[0m\u001b[37m\u001b[0m \u001b[1m2s\u001b[0m 5ms/step - accuracy: 0.9237 - auc: 0.9954 - loss: 0.2450 - precision: 0.9517 - recall: 0.8964 - val_accuracy: 0.6755 - val_auc: 0.9092 - val_loss: 1.3001 - val_precision: 0.7100 - val_recall: 0.6536 - learning_rate: 1.0000e-06\n",
            "Epoch 99/100\n",
            "\u001b[1m317/317\u001b[0m \u001b[32m━━━━━━━━━━━━━━━━━━━━\u001b[0m\u001b[37m\u001b[0m \u001b[1m2s\u001b[0m 5ms/step - accuracy: 0.9274 - auc: 0.9953 - loss: 0.2411 - precision: 0.9530 - recall: 0.8987 - val_accuracy: 0.6765 - val_auc: 0.9090 - val_loss: 1.2997 - val_precision: 0.7095 - val_recall: 0.6532 - learning_rate: 1.0000e-06\n",
            "Epoch 100/100\n",
            "\u001b[1m317/317\u001b[0m \u001b[32m━━━━━━━━━━━━━━━━━━━━\u001b[0m\u001b[37m\u001b[0m \u001b[1m2s\u001b[0m 5ms/step - accuracy: 0.9183 - auc: 0.9952 - loss: 0.2523 - precision: 0.9495 - recall: 0.8922 - val_accuracy: 0.6777 - val_auc: 0.9091 - val_loss: 1.2964 - val_precision: 0.7093 - val_recall: 0.6538 - learning_rate: 1.0000e-06\n"
          ]
        }
      ]
    },
    {
      "cell_type": "code",
      "source": [
        "import matplotlib.pyplot as plt\n",
        "from sklearn.metrics import classification_report, confusion_matrix, ConfusionMatrixDisplay, balanced_accuracy_score, accuracy_score"
      ],
      "metadata": {
        "id": "iRGuj2ZcIqYQ"
      },
      "execution_count": null,
      "outputs": []
    },
    {
      "cell_type": "code",
      "source": [
        "# Accuracy\n",
        "plt.figure(figsize=(12, 6))\n",
        "plt.subplot(1, 2, 1)\n",
        "plt.plot(history.history['accuracy'], label='Training Accuracy')\n",
        "plt.plot(history.history['val_accuracy'], label='Validation Accuracy')\n",
        "plt.title('Training and Validation Accuracy')\n",
        "plt.xlabel('Epochs')\n",
        "plt.ylabel('Accuracy')\n",
        "plt.legend()\n",
        "\n",
        "# Loss\n",
        "plt.subplot(1, 2, 2)\n",
        "plt.plot(history.history['loss'], label='Training Loss')\n",
        "plt.plot(history.history['val_loss'], label='Validation Loss')\n",
        "plt.title('Training and Validation Loss')\n",
        "plt.xlabel('Epochs')\n",
        "plt.ylabel('Loss')\n",
        "plt.legend()\n",
        "\n",
        "plt.show()"
      ],
      "metadata": {
        "colab": {
          "base_uri": "https://localhost:8080/",
          "height": 564
        },
        "id": "x-n--1aQItD2",
        "outputId": "f25ec87a-cc3c-4ee2-c51b-6d163a094c2c"
      },
      "execution_count": null,
      "outputs": [
        {
          "output_type": "display_data",
          "data": {
            "text/plain": [
              "<Figure size 1200x600 with 2 Axes>"
            ],
            "image/png": "[encoded data removed]"
          },
          "metadata": {}
        }
      ]
    },
    {
      "cell_type": "code",
      "source": [
        "def evaluate_model_and_confusion_matrix(model, X_val, y_val, label_mapping):\n",
        "    \"\"\"\n",
        "    Evaluate the trained model on the validation set and display the confusion matrix, accuracy score, and balanced accuracy score.\n",
        "    \"\"\"\n",
        "    print(\"Evaluating the model...\")\n",
        "\n",
        "    # Predict the validation set\n",
        "    y_pred = model.predict(X_val)\n",
        "\n",
        "    # Convert probabilities to class labels (assuming multi-class classification)\n",
        "    y_pred_classes = np.argmax(y_pred, axis=1)\n",
        "\n",
        "    # Convert actual labels from one-hot encoding to class indices\n",
        "    y_true = np.argmax(y_val, axis=1)\n",
        "\n",
        "    # Compute accuracy score\n",
        "    accuracy = accuracy_score(y_true, y_pred_classes)\n",
        "    print(f\"Accuracy Score: {accuracy:.4f}\")\n",
        "\n",
        "    # Compute balanced accuracy score\n",
        "    balanced_acc = balanced_accuracy_score(y_true, y_pred_classes)\n",
        "    print(f\"Balanced Accuracy Score: {balanced_acc:.4f}\")\n",
        "\n",
        "    # Print classification report\n",
        "    print(\"Classification Report:\")\n",
        "    print(classification_report(y_true, y_pred_classes, target_names=list(label_mapping)))  # FIXED\n",
        "\n",
        "    # Confusion Matrix\n",
        "    cm = confusion_matrix(y_true, y_pred_classes)\n",
        "    disp = ConfusionMatrixDisplay(confusion_matrix=cm, display_labels=list(label_mapping))\n",
        "    disp.plot(cmap=plt.cm.Blues, xticks_rotation='vertical')\n",
        "    plt.title(\"Confusion Matrix\")\n",
        "    plt.show()"
      ],
      "metadata": {
        "id": "foRV9guPIwjx"
      },
      "execution_count": null,
      "outputs": []
    },
    {
      "cell_type": "code",
      "source": [
        "evaluate_model_and_confusion_matrix(model, X_val, y_val, train_lables.columns[1:])"
      ],
      "metadata": {
        "colab": {
          "base_uri": "https://localhost:8080/",
          "height": 841
        },
        "id": "pDvCJW_wIyxK",
        "outputId": "669be5e0-1c4f-4a14-ff62-7c5e5b71782a"
      },
      "execution_count": null,
      "outputs": [
        {
          "output_type": "stream",
          "name": "stdout",
          "text": [
            "Evaluating the model...\n",
            "\u001b[1m159/159\u001b[0m \u001b[32m━━━━━━━━━━━━━━━━━━━━\u001b[0m\u001b[37m\u001b[0m \u001b[1m2s\u001b[0m 6ms/step\n",
            "Accuracy Score: 0.6771\n",
            "Balanced Accuracy Score: 0.4325\n",
            "Classification Report:\n",
            "              precision    recall  f1-score   support\n",
            "\n",
            "         MEL       0.58      0.54      0.56       915\n",
            "          NV       0.80      0.86      0.83      2567\n",
            "         BCC       0.63      0.61      0.62       658\n",
            "          AK       0.27      0.20      0.23       177\n",
            "         BKL       0.43      0.44      0.43       536\n",
            "          DF       0.43      0.06      0.11        48\n",
            "        VASC       0.78      0.50      0.61        62\n",
            "         SCC       0.35      0.25      0.29       104\n",
            "\n",
            "    accuracy                           0.68      5067\n",
            "   macro avg       0.53      0.43      0.46      5067\n",
            "weighted avg       0.66      0.68      0.67      5067\n",
            "\n"
          ]
        },
        {
          "output_type": "display_data",
          "data": {
            "text/plain": [
              "<Figure size 640x480 with 2 Axes>"
            ],
            "image/png": "[encoded data removed]"
          },
          "metadata": {}
        }
      ]
    },
    {
      "cell_type": "code",
      "source": [
        "model_path = '/content/drive/MyDrive/Dataset/Pre_Imabalance_ISIC2019_dcnn_model.h5'\n",
        "model.save(model_path)\n",
        "print(f\"Model saved successfully at {model_path}.\")"
      ],
      "metadata": {
        "colab": {
          "base_uri": "https://localhost:8080/"
        },
        "id": "0yufax9yI1Qh",
        "outputId": "e052f0c9-7fc5-4f78-eacd-127ca5f848e4"
      },
      "execution_count": null,
      "outputs": [
        {
          "output_type": "stream",
          "name": "stderr",
          "text": [
            "WARNING:absl:You are saving your model as an HDF5 file via `model.save()` or `keras.saving.save_model(model)`. This file format is considered legacy. We recommend using instead the native Keras format, e.g. `model.save('my_model.keras')` or `keras.saving.save_model(model, 'my_model.keras')`. \n"
          ]
        },
        {
          "output_type": "stream",
          "name": "stdout",
          "text": [
            "Model saved successfully at /content/drive/MyDrive/Dataset/Pre_Imabalance_ISIC2019_dcnn_model.h5.\n"
          ]
        }
      ]
    },
    {
      "cell_type": "code",
      "source": [],
      "metadata": {
        "id": "FCUdDyZI1kKi"
      },
      "execution_count": null,
      "outputs": []
    }
  ]
}